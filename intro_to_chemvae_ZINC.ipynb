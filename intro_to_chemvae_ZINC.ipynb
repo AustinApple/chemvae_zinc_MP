{
 "cells": [
  {
   "cell_type": "markdown",
   "metadata": {
    "ExecuteTime": {
     "end_time": "2018-01-15T19:20:12.319249Z",
     "start_time": "2018-01-15T19:20:12.314813Z"
    }
   },
   "source": [
    "## Load libraries"
   ]
  },
  {
   "cell_type": "code",
   "execution_count": 1,
   "metadata": {
    "ExecuteTime": {
     "end_time": "2019-04-24T09:18:43.490774Z",
     "start_time": "2019-04-24T09:18:37.904861Z"
    }
   },
   "outputs": [
    {
     "name": "stderr",
     "output_type": "stream",
     "text": [
      "Using TensorFlow backend.\n"
     ]
    }
   ],
   "source": [
    "# tensorflow backend\n",
    "%load_ext autoreload\n",
    "%autoreload 2\n",
    "from os import environ\n",
    "environ['KERAS_BACKEND'] = 'tensorflow'\n",
    "# vae stuff\n",
    "from chemvae.vae_utils import VAEUtils\n",
    "from chemvae import mol_utils as mu\n",
    "# import scientific py\n",
    "import numpy as np\n",
    "import pandas as pd\n",
    "# rdkit stuff\n",
    "from rdkit.Chem import AllChem as Chem\n",
    "from rdkit.Chem import PandasTools\n",
    "# plotting stuff\n",
    "import matplotlib.pyplot as plt\n",
    "import matplotlib as mpl\n",
    "from IPython.display import SVG, display\n",
    "%config InlineBackend.figure_format = 'retina'\n",
    "%matplotlib inline"
   ]
  },
  {
   "cell_type": "markdown",
   "metadata": {},
   "source": [
    "# Load a model"
   ]
  },
  {
   "cell_type": "code",
   "execution_count": 5,
   "metadata": {
    "ExecuteTime": {
     "end_time": "2019-03-24T10:46:27.967085Z",
     "start_time": "2019-03-24T10:46:19.701688Z"
    }
   },
   "outputs": [
    {
     "name": "stdout",
     "output_type": "stream",
     "text": [
      "/Users/apple/Desktop/鋰電池電解液/VAE_molecule/chemical_vae/models/zinc\n",
      "hellow world\n",
      "Using standarized functions? True\n",
      "Standarization: estimating mu and std values ...the program had really come to here!!\n",
      "Now we gonna to save the latentspace of zinc test !!\n",
      "(5000, 196)\n",
      "done!\n"
     ]
    }
   ],
   "source": [
    "# vae = VAEUtils(directory='../models/MP_properties')\n",
    "# vae = VAEUtils(directory='../models/MP_properties/')\n",
    "import os\n",
    "\n",
    "os.chdir(\"/Users/apple/Desktop/鋰電池電解液/VAE_molecule/chemical_vae/models/zinc\")\n",
    "\n",
    "\n",
    "print(os.getcwd())\n",
    "\n",
    "vae = VAEUtils()"
   ]
  },
  {
   "cell_type": "markdown",
   "metadata": {},
   "source": [
    "# Using the VAE\n"
   ]
  },
  {
   "cell_type": "markdown",
   "metadata": {},
   "source": [
    "## Decode/Encode \n",
    "\n",
    "Might not be perfect (it's probabilistic), try it several times.\n",
    "\n",
    "smiles <i class=\"fa fa-arrow-right\" aria-hidden=\"true\"></i> x <i class=\"fa fa-arrow-right\" aria-hidden=\"true\"></i> z <i class=\"fa fa-arrow-right\" aria-hidden=\"true\"></i> x_r <i class=\"fa fa-arrow-right\" aria-hidden=\"true\"></i> smiles_r"
   ]
  },
  {
   "cell_type": "code",
   "execution_count": 17,
   "metadata": {
    "ExecuteTime": {
     "end_time": "2019-03-04T05:30:58.722062Z",
     "start_time": "2019-03-04T05:29:59.176150Z"
    },
    "scrolled": false
   },
   "outputs": [
    {
     "name": "stdout",
     "output_type": "stream",
     "text": [
      "Reconstruction       : C1=C(=NCCOC@2)C1CC1\n",
      "Reconstruction       : c1CC(=C(COCC2)C1CC1\n",
      "Reconstruction       : C1=C(=NCC(C@2)C)CC1\n",
      "Reconstruction       : COCC(=NCCOC)S)C)CC1\n",
      "Reconstruction       : C1=C(=NC(OC@H]CCCC1\n",
      "Reconstruction       : C1=C(=NC(OCC2)CC)C1\n",
      "Reconstruction       : COC(=N2C(OCC2)C)CC1\n",
      "Reconstruction       : COC(N2=C(OC)@)CC#C1\n",
      "Reconstruction       : C1=C(=NCCOC@H]C1CC1\n",
      "Reconstruction       : C1=C(=NC(=C@2)CCCC1\n",
      "Reconstruction       : COC1(N2C(=C@2)CCCC1\n",
      "Reconstruction       : OC1C(N2C(OC@H]CC1C1\n",
      "Reconstruction       : OC1C(=NCCOC@@H]CCC1\n",
      "Reconstruction       : F          Cl)CC)C1\n",
      "Reconstruction       : COCC(=NC(OC@@]1CCC1\n",
      "Reconstruction       : C(C(CN2C(OCC2)CCCC1\n",
      "Reconstruction       : COC(CN2CCOC@H]CC1C1\n",
      "Reconstruction       : COC(CN2C(OC@H]CCSC1\n",
      "Reconstruction       : COC1CN2CCOCC2)C(CC@\n",
      "Reconstruction       : COCC(=NC(C)C2)C1CC1\n",
      "Reconstruction       : C1=C(=NCCOC@]2C1CC1\n",
      "Reconstruction       : COC(CN2CCOC@2)CCCC1\n",
      "Reconstruction       : C1=C(n2C(OC@H]1CCC1\n",
      "Reconstruction       : C1=C(=2C(=C@2)CCCC1\n",
      "Reconstruction       : OC1C(N2C(C#C2)C1CC1\n",
      "Reconstruction       : COC(CN2C(OC@H]C)CC1\n",
      "Reconstruction       : COC(CN2C(OC@2)C2CC1\n",
      "Reconstruction       : C1=C(=NC(OC@H]CCCC1\n",
      "Reconstruction       : COC(C2=C(OC@2)CC1C1\n",
      "Reconstruction       : COC(CN2C(OC@2)C1CC1\n",
      "Reconstruction       : COC(=N2C(CC(S)C@CC1\n",
      "Reconstruction       : COC1(=NC(OCC2)C@CC1\n",
      "Reconstruction       : COC(C2)C(OC@2)CC)C1\n",
      "Reconstruction       : C1=C(N2CCOC@H]CCCC1\n",
      "Reconstruction       : C1=C(=NCCOC@H]CCCC1\n",
      "Reconstruction       : C1=C(=C(COC)@)CCC@H\n",
      "Reconstruction       : C1=C(=NC(OC@@]1CCC1\n",
      "Reconstruction       : COC(N2=C(OC@H]CCCC1\n",
      "Reconstruction       : C1=C(=NCCOC@@H]C1C1\n",
      "Reconstruction       : C(=C(N2C(OC@H]CCCC1\n",
      "Reconstruction       : COC(CN2C(OC@2)CCCC1\n",
      "Reconstruction       : COC(Cn2C(OCC2)C@@C1\n",
      "Reconstruction       : COC1=N2CCOCC2)C)CC1\n",
      "Reconstruction       : c1=C(=NC(OCC1)C1CC1\n",
      "Reconstruction       : COCC(=NC(OCC2)CC1C1\n",
      "Reconstruction       : COC1(N2C(C(C2)CCCC1\n",
      "Reconstruction       : C1=C(N2C(OC@H]C1CC1\n",
      "Reconstruction       : COC(=N2C(OC@2)CCCC1\n",
      "Reconstruction       : COCCN=2C(OC@2)C(CC1\n",
      "Reconstruction       : C1=C(=NCCOC@H]CC)C1\n",
      "Reconstruction       : C1=C(=NC)OC@2)CCCC1\n",
      "Reconstruction       : C(C1(=C(COC@I)CCCC1\n",
      "Reconstruction       : C1=C(=NCCOC@@]CCCC1\n",
      "Reconstruction       : COCC(=NC(C#C2)CC1C1\n",
      "Reconstruction       : COC(CN2C(=C@H]CC)C1\n",
      "Reconstruction       : C1=C(=NCCOC@H]CCCC1\n",
      "Reconstruction       : COC(CN2C(=C@2)CC1C1\n",
      "Reconstruction       : COC(=N2CCOCC2)CC)C1\n",
      "Reconstruction       : COCN(=NCCOC@2)CCCC1\n",
      "Reconstruction       : c1CNCN2C(=C@2)C)CC1\n",
      "Reconstruction       : C(CN(=NC(OC@H]c1CC1\n",
      "Reconstruction       : F)C1(=NCCOC@H]CCCC1\n",
      "Reconstruction       : CN1C(N2CCOCl)c1C@@1\n",
      "Reconstruction       : C1=C(=NCCOC@2)C(CC1\n",
      "Reconstruction       : C1/C(N2C(OC(S)CCCC1\n",
      "Reconstruction       : COCN(=NC)OC@H]c1CC1\n",
      "Reconstruction       : COC(CN2CCOC@H]1CCC1\n",
      "Reconstruction       : COCC(=NC(OC@2)CCCC1\n",
      "Reconstruction       : C1C(CN2COC(C2)CC#C1\n",
      "Reconstruction       : C1=C(=NCCOCC@)CCCC1\n",
      "Reconstruction       : C1=C(=NC(OC@H]CC1C1\n",
      "Reconstruction       : COC(CN2C(OC@]1C@CC1\n",
      "Reconstruction       : COC1=N2CCOC@H]c1CC1\n",
      "Reconstruction       : C1=C(=NC)OC@H]1C@@H\n",
      "Reconstruction       : N1=C(=NCCOCC@)CCSC1\n",
      "Reconstruction       : COC(=N2C(C#C2)CCCC1\n",
      "Reconstruction       : COC(CN2CCOCC2)CCCC1\n",
      "Reconstruction       : C1=C(=NCCOC@]2C(CC1\n",
      "Reconstruction       : C1=C(=NC(OCC2)C1CC1\n",
      "Reconstruction       : C1=C(=NC(OC@H]CC)C1\n",
      "Reconstruction       : C1=C(=NC(OC(F)C)CC@\n",
      "Reconstruction       : C1=C(=NC(OC@@H]C)C1\n",
      "Reconstruction       : C1=C(=NCCOC@@]1CCC1\n",
      "Reconstruction       : COC(CN2C(OC(S\n",
      "Reconstruction       : C1=C(=NCCOC@H]1CCC1\n",
      "Reconstruction       : COCC(=Nc(OC@2)C1CC1\n",
      "Reconstruction       : C1=C(=NC(=C@2)C)CC1\n",
      "Reconstruction       : C1=C(=NC(OC@H2CCCC1\n",
      "Reconstruction       : COC(CN2C(OC@H]c1CC1\n",
      "Reconstruction       : C1=C(n2CCOCC2)CCCC1\n",
      "Reconstruction       : COC(CN2CCOCS2)CCCC1\n",
      "Reconstruction       : COCC(=NC(OC@H]CCCC1\n",
      "Reconstruction       : CNC(N2=C(OC@2)CCCC1\n",
      "Reconstruction       : C1=C(=NCCOC@H]CCCC1\n",
      "Reconstruction       : C1=C(=NCCOCC2)C)C@\n",
      "Reconstruction       : CNC(=N2C(OC@]2CC)C1\n",
      "Reconstruction       : COCNCN2CCOC@H](C@@@\n",
      "Reconstruction       : [OPC(=C(COC@2)C)CC1\n",
      "Reconstruction       : COC(N2=C(OC@H]CCSC1\n",
      "Reconstruction       : N1=C(N2C(OC@2)CCCC1\n",
      "Reconstruction       : C1=C(=NC(=C@2)CC1C1\n",
      "Reconstruction       : C1=C(=NC(OC@H]C)CC1\n",
      "Reconstruction       : C1=C(=NC(OC(F)C(CC1\n",
      "Reconstruction       : C1=C(=NCC(C@H]1C)C1\n",
      "Reconstruction       : C1=C(=C(COC)S)CCCC1\n",
      "Reconstruction       : -n1C(=NC(OC@H]C(CC1\n",
      "Reconstruction       : COC(C2)C(OC@2)CCCC1\n",
      "Reconstruction       : C1=C(=NC(OC@]2C1CC@\n",
      "Reconstruction       : C1=C(N2C(OC@2)C)CC1\n",
      "Reconstruction       : CNC(N=C(COCC2)CCCC1\n",
      "Reconstruction       : C1=C(=NC(OC@H]CCCC1\n",
      "Reconstruction       : C(CNCN2C(C#C2)CCCC1\n",
      "Reconstruction       : C(C(CN2CCOC@2)CCCC1\n",
      "Reconstruction       : C1=C(N2C(OCC2)CC\\C1\n",
      "Reconstruction       : C1=C(=NC(=C@2)CCCC1\n",
      "Reconstruction       : COCNCN2CCOC@]2CCCC1\n",
      "Reconstruction       : COCC(=NC(OC@@H]CCC1\n",
      "Reconstruction       : COCNC2=CCOC@H]CCC@H\n",
      "Reconstruction       : COC(C2)C(OC@H]c1CC1\n",
      "Reconstruction       : C(=C(=NC(OC@H]c1CC1\n",
      "Reconstruction       : COC(C2=C(OC@H]CCCC1\n",
      "Reconstruction       : OC1C(=C(COC@H]CCCC1\n",
      "Reconstruction       : COC@n2=C(OCC2)CC@C1\n",
      "Reconstruction       : COC(=N2C(C#C2)CC1C1\n",
      "Reconstruction       : COCNCN2C(OC@2)C1CC1\n",
      "Reconstruction       : C1=C(=NC(=CC2)CCCC1\n",
      "Reconstruction       : C1=C(=NC(C#C2)C1C@1\n",
      "Reconstruction       : COC(CN2C(OC@2)CCCC1\n",
      "Reconstruction       : C(C(N=NC(OC@2)C1CC1\n",
      "Reconstruction       : F\n",
      "Reconstruction       : COC(N=NCCOC@@]1CCC1\n",
      "Reconstruction       : COC(N=NC(OCC2)C[C@1\n",
      "Reconstruction       : COC(CN2C(=OC2)CCCC1\n",
      "Reconstruction       : COC(CN2CCOC@2)CC1C1\n",
      "Reconstruction       : C1=C(=C(COCC2)CCSC1\n",
      "Reconstruction       : C1=C(=NC(OCl@]C)CC1\n",
      "Reconstruction       : COC(CN2CCOC@H]CCCC1\n",
      "Reconstruction       : C1=C(=C(COC@H]c1CC1\n",
      "Reconstruction       : C1=C(=NC(OCC@\n",
      "Reconstruction       : COC(=N2C(OC@@]c1CC1\n",
      "Reconstruction       : C1=C(=C(COC)S)CCCC1\n",
      "Reconstruction       : C1=C(=NC(OCC@2CC1C1\n",
      "Reconstruction       : COC(CN2C(OC@2)CCCC1\n",
      "Reconstruction       : COC(C2=C(OC@2)CCCC1\n",
      "Reconstruction       : COCNCN2C(OC@H]1CC@1\n",
      "Reconstruction       : COC(=N2C(OC@]2CCCC1\n",
      "Reconstruction       : COC(C2=CC(C@2)CCCC1\n",
      "Reconstruction       : COC(CN=C(OCC2)CCCC1\n",
      "Reconstruction       : COCC(=NC(OC@2)CCCC1\n",
      "Reconstruction       : COC(C2=CCOC@H]CCCC1\n",
      "Reconstruction       : COC(CN2C(=C(S)C1CC1\n",
      "Reconstruction       : C(=C(=NC(OC@2)CCCC1\n",
      "Reconstruction       : COC(=N2C(OC@H]CCCC@\n",
      "Reconstruction       : CN1C(=NCCOC@H]c1CC1\n",
      "Reconstruction       : COCC(=NCCOC@H]c1CC1\n",
      "Reconstruction       : COC(N=2C(OC@H]C)C@1\n",
      "Reconstruction       : COC(N2=C(OCC2)C)CC1\n",
      "Reconstruction       : C1=C(=NC(OC@H]C1CC1\n",
      "Reconstruction       : CNCC(=NCCOC@H]CCCC1\n",
      "Reconstruction       : CN1C(=NCCOC@H]1CCC1\n",
      "Reconstruction       : COCC(=NC(OC@H]1CC@H\n",
      "Reconstruction       : CN1C(=C(COC@H]C1CC@\n",
      "Reconstruction       : C1=C(=NC(OC@H]1CC1\n",
      "Reconstruction       : C1=C(N2C)OC@H]1C#C1\n",
      "Reconstruction       : COC(CN2C(OC@H]CCCC1\n",
      "Reconstruction       : C1=C(N2CCOCC2)CCCC1\n",
      "Reconstruction       : COC(C(=C(=CC2)CCCC1\n",
      "Reconstruction       : C1=C(N2C(OC@H]C)CC1\n",
      "Reconstruction       : COCC(N2C(OCC2)C)CC1\n",
      "Reconstruction       : C(=C(=NCCOCC2)C)CC1\n",
      "Reconstruction       : COC(N=2C(OC@2)C)CC1\n",
      "Reconstruction       : COCCI=NC(OC@H]CC1C1\n",
      "Reconstruction       : COC(=N2C(OC@@H2CCC1\n",
      "Reconstruction       : C1=C(=C(COC@H]c1CC1\n",
      "Reconstruction       : C1=C(=C@COCC2)CCCC@\n",
      "Reconstruction       : COCC(=NC(OC@2)CCCC1\n",
      "Reconstruction       : COC(CN2C(OC@H]CCCC1\n",
      "Reconstruction       : C1=C(=NCCOC@H]C[CC1\n",
      "Reconstruction       : C1=C(=2CCOCC2)C1C@H\n",
      "Reconstruction       : C1=C(=NC(=CC2)CCCC1\n",
      "Reconstruction       : c1=C(N2CCOC@@]CC1C1\n",
      "Reconstruction       : COCC(N2C(OC@H2CCCC1\n",
      "Reconstruction       : COCC(=NC(OCC2)CCCC1\n",
      "Reconstruction       : C1C)n2=CCOC@H]1CCC1\n",
      "Reconstruction       : C1=C(=C(COC@H]CC1C1\n",
      "Reconstruction       : C1=C(=2C(OC@H]c1CC1\n",
      "Reconstruction       : C1=C(=NCCOC@H]c1CC1\n",
      "Reconstruction       : N1C(CN2CCOC@2)CC)C1\n",
      "Reconstruction       : C1C1=N2C(OC@]2C1CC1\n",
      "Reconstruction       : CNC2(=NC(OC@H]C1CC1\n",
      "Reconstruction       : C1=C(N2CCOCC@2CCCC1\n",
      "Reconstruction       : N1=C(=C(COCl)cc1CC1\n"
     ]
    },
    {
     "name": "stdout",
     "output_type": "stream",
     "text": [
      "Reconstruction       : CN1C(=NCCOC(S@CCCC1\n",
      "Reconstruction       : C1=C(=NC(OC)@)CCCC1\n",
      "Reconstruction       : OC1C(=NC(OC@]2C)CC1\n",
      "Reconstruction       : COCC(N2CCOCC2)CC@H2\n",
      "Reconstruction       : COC(N2=C)OC@2)C)CC1\n",
      "Reconstruction       : \n",
      "Reconstruction       : CN1C(=NC(OC@2)C1CC1\n",
      "Reconstruction       : COC(C2)C(OC@]2CCCC1\n"
     ]
    }
   ],
   "source": [
    "smiles_1 = mu.canon_smiles('N1(C2=CCCCC2)CCOCC1')\n",
    "\n",
    "for i in range(200):\n",
    "    X_1 = vae.smiles_to_hot(smiles_1,canonize_smiles=True)\n",
    "    z_1 = vae.encode(X_1)\n",
    "    X_r= vae.decode(z_1)\n",
    "\n",
    "    #print('{:20s} : {}'.format('Input',smiles_1))\n",
    "    print('{:20s} : {}'.format('Reconstruction',vae.hot_to_smiles(X_r,strip=True)[0]))\n",
    "\n",
    "    #print('{:20s} : {} with norm {:.3f}'.format('Z representation',z_1.shape, np.linalg.norm(z_1)))\n"
   ]
  },
  {
   "cell_type": "markdown",
   "metadata": {},
   "source": [
    "## property preditor"
   ]
  },
  {
   "cell_type": "code",
   "execution_count": 220,
   "metadata": {
    "ExecuteTime": {
     "end_time": "2018-01-16T09:13:28.233280Z",
     "start_time": "2018-01-16T09:13:28.178784Z"
    }
   },
   "outputs": [
    {
     "name": "stdout",
     "output_type": "stream",
     "text": [
      "Properties (qed,SAS,logP):\n",
      "[[3.1159394]]\n"
     ]
    }
   ],
   "source": [
    "print('Properties (qed,SAS,logP):')\n",
    "y_1 = vae.predict_prop_Z(z_1)\n",
    "print(y_1)"
   ]
  },
  {
   "cell_type": "code",
   "execution_count": 245,
   "metadata": {},
   "outputs": [
    {
     "name": "stdout",
     "output_type": "stream",
     "text": [
      "The autoreload extension is already loaded. To reload it, use:\n",
      "  %reload_ext autoreload\n",
      "0_attemp\n",
      "(1, 196)\n",
      "x0 shape is(196,)\n",
      "Warning: Desired error not necessarily achieved due to precision loss.\n",
      "         Current function value: 2.921356\n",
      "         Iterations: 1\n",
      "         Function evaluations: 27986\n",
      "         Gradient evaluations: 71\n",
      "[[2.9213564]]\n"
     ]
    }
   ],
   "source": [
    "# this is the optimize process in the latent space.\n",
    "%load_ext autoreload\n",
    "%autoreload 2\n",
    "from scipy import optimize\n",
    "import numpy as np \n",
    "for i in range(\n",
    "    print(str(i)+\"_attemp\")\n",
    "    initial = np.random.rand(1,196)\n",
    "    print(initial.shape)\n",
    "    res1 = optimize.fmin_cg(vae.predict_prop_Z, initial,full_output=True)\n",
    "    y_1 = vae.predict_prop_Z(initial)\n",
    "    print(y_1)\n",
    "# "
   ]
  },
  {
   "cell_type": "markdown",
   "metadata": {},
   "source": [
    "## Decode several attempts\n",
    "VAE are probabilistic"
   ]
  },
  {
   "cell_type": "code",
   "execution_count": 55,
   "metadata": {
    "ExecuteTime": {
     "end_time": "2018-01-16T09:13:32.709010Z",
     "start_time": "2018-01-16T09:13:30.004000Z"
    }
   },
   "outputs": [
    {
     "name": "stdout",
     "output_type": "stream",
     "text": [
      "Searching molecules randomly sampled from 5.00 std (z-distance) from the point\n",
      "Found 0 unique mols, out of 0\n",
      "SMILES\n",
      " Series([], Name: smiles, dtype: object)\n"
     ]
    },
    {
     "data": {
      "text/html": [
       "<div>\n",
       "<style scoped>\n",
       "    .dataframe tbody tr th:only-of-type {\n",
       "        vertical-align: middle;\n",
       "    }\n",
       "\n",
       "    .dataframe tbody tr th {\n",
       "        vertical-align: top;\n",
       "    }\n",
       "\n",
       "    .dataframe thead th {\n",
       "        text-align: right;\n",
       "    }\n",
       "</style>\n",
       "<table border=\"1\" class=\"dataframe\">\n",
       "  <thead>\n",
       "    <tr style=\"text-align: right;\">\n",
       "      <th></th>\n",
       "      <th>smiles</th>\n",
       "      <th>count</th>\n",
       "      <th>mol</th>\n",
       "    </tr>\n",
       "  </thead>\n",
       "  <tbody>\n",
       "  </tbody>\n",
       "</table>\n",
       "</div>"
      ],
      "text/plain": [
       "Empty DataFrame\n",
       "Columns: [smiles, count, mol]\n",
       "Index: []"
      ]
     },
     "execution_count": 55,
     "metadata": {},
     "output_type": "execute_result"
    }
   ],
   "source": [
    "noise=5.0\n",
    "print('Searching molecules randomly sampled from {:.2f} std (z-distance) from the point'.format(noise))\n",
    "df = vae.z_to_smiles( z_1,decode_attempts=100,noise_norm=noise)\n",
    "print('Found {:d} unique mols, out of {:d}'.format(len(set(df['smiles'])),sum(df['count'])))\n",
    "print('SMILES\\n',df.smiles)\n",
    "# display(PandasTools.FrameToGridImage(df,column='mol', legendsCol='smiles',molsPerRow=5))\n",
    "df.head()"
   ]
  },
  {
   "cell_type": "markdown",
   "metadata": {},
   "source": [
    "## PCA of latent space\n",
    "\n",
    "Sample random points from the training set along with properties"
   ]
  },
  {
   "cell_type": "code",
   "execution_count": 70,
   "metadata": {
    "ExecuteTime": {
     "end_time": "2018-01-16T09:15:18.349123Z",
     "start_time": "2018-01-16T09:14:47.940503Z"
    }
   },
   "outputs": [
    {
     "data": {
      "text/html": [
       "<div>\n",
       "<style scoped>\n",
       "    .dataframe tbody tr th:only-of-type {\n",
       "        vertical-align: middle;\n",
       "    }\n",
       "\n",
       "    .dataframe tbody tr th {\n",
       "        vertical-align: top;\n",
       "    }\n",
       "\n",
       "    .dataframe thead th {\n",
       "        text-align: right;\n",
       "    }\n",
       "</style>\n",
       "<table border=\"1\" class=\"dataframe\">\n",
       "  <thead>\n",
       "    <tr style=\"text-align: right;\">\n",
       "      <th></th>\n",
       "      <th>index</th>\n",
       "      <th>EA</th>\n",
       "      <th>IE</th>\n",
       "      <th>smiles</th>\n",
       "    </tr>\n",
       "  </thead>\n",
       "  <tbody>\n",
       "    <tr>\n",
       "      <th>0</th>\n",
       "      <td>7608</td>\n",
       "      <td>0.098372</td>\n",
       "      <td>4.360567</td>\n",
       "      <td>COCCOCCOc1c(ccc2c1ONO2)c1ccccc1</td>\n",
       "    </tr>\n",
       "    <tr>\n",
       "      <th>1</th>\n",
       "      <td>4465</td>\n",
       "      <td>1.754691</td>\n",
       "      <td>3.909977</td>\n",
       "      <td>COCCOCCOCCOn1c2cccc(c2[nH]s1)N</td>\n",
       "    </tr>\n",
       "    <tr>\n",
       "      <th>2</th>\n",
       "      <td>8688</td>\n",
       "      <td>1.006411</td>\n",
       "      <td>2.222106</td>\n",
       "      <td>C#Cc1c/c(=c/2\\ccn(C)c(c2)C(=O)O)/ccn1C</td>\n",
       "    </tr>\n",
       "    <tr>\n",
       "      <th>3</th>\n",
       "      <td>10559</td>\n",
       "      <td>0.383937</td>\n",
       "      <td>2.301879</td>\n",
       "      <td>CN(C)Cn1ccc(=c2ccn(C)cc2)c(c1)C(=O)O</td>\n",
       "    </tr>\n",
       "    <tr>\n",
       "      <th>4</th>\n",
       "      <td>13355</td>\n",
       "      <td>-1.210131</td>\n",
       "      <td>3.800791</td>\n",
       "      <td>Cn1ccc(c1)OC</td>\n",
       "    </tr>\n",
       "  </tbody>\n",
       "</table>\n",
       "</div>"
      ],
      "text/plain": [
       "   index        EA        IE                                  smiles\n",
       "0   7608  0.098372  4.360567         COCCOCCOc1c(ccc2c1ONO2)c1ccccc1\n",
       "1   4465  1.754691  3.909977          COCCOCCOCCOn1c2cccc(c2[nH]s1)N\n",
       "2   8688  1.006411  2.222106  C#Cc1c/c(=c/2\\ccn(C)c(c2)C(=O)O)/ccn1C\n",
       "3  10559  0.383937  2.301879    CN(C)Cn1ccc(=c2ccn(C)cc2)c(c1)C(=O)O\n",
       "4  13355 -1.210131  3.800791                            Cn1ccc(c1)OC"
      ]
     },
     "execution_count": 70,
     "metadata": {},
     "output_type": "execute_result"
    }
   ],
   "source": [
    "Z, data, smiles = vae.ls_sampler_w_prop(size=5000,return_smiles=True)\n",
    "prop_opt = 'qed'\n",
    "prop_df = pd.DataFrame(data).reset_index()\n",
    "prop_df['smiles']=smiles\n",
    "prop_df.head()"
   ]
  },
  {
   "cell_type": "markdown",
   "metadata": {},
   "source": [
    "Perform a PCA projection and color the points based on a property"
   ]
  },
  {
   "cell_type": "code",
   "execution_count": 72,
   "metadata": {
    "ExecuteTime": {
     "end_time": "2018-01-16T09:18:19.823125Z",
     "start_time": "2018-01-16T09:18:18.859993Z"
    }
   },
   "outputs": [
    {
     "ename": "KeyError",
     "evalue": "'qed'",
     "output_type": "error",
     "traceback": [
      "\u001b[0;31m---------------------------------------------------------------------------\u001b[0m",
      "\u001b[0;31mKeyError\u001b[0m                                  Traceback (most recent call last)",
      "\u001b[0;32m~/anaconda3/envs/chemvae/lib/python3.6/site-packages/pandas/core/indexes/base.py\u001b[0m in \u001b[0;36mget_loc\u001b[0;34m(self, key, method, tolerance)\u001b[0m\n\u001b[1;32m   2655\u001b[0m             \u001b[0;32mtry\u001b[0m\u001b[0;34m:\u001b[0m\u001b[0;34m\u001b[0m\u001b[0;34m\u001b[0m\u001b[0m\n\u001b[0;32m-> 2656\u001b[0;31m                 \u001b[0;32mreturn\u001b[0m \u001b[0mself\u001b[0m\u001b[0;34m.\u001b[0m\u001b[0m_engine\u001b[0m\u001b[0;34m.\u001b[0m\u001b[0mget_loc\u001b[0m\u001b[0;34m(\u001b[0m\u001b[0mkey\u001b[0m\u001b[0;34m)\u001b[0m\u001b[0;34m\u001b[0m\u001b[0;34m\u001b[0m\u001b[0m\n\u001b[0m\u001b[1;32m   2657\u001b[0m             \u001b[0;32mexcept\u001b[0m \u001b[0mKeyError\u001b[0m\u001b[0;34m:\u001b[0m\u001b[0;34m\u001b[0m\u001b[0;34m\u001b[0m\u001b[0m\n",
      "\u001b[0;32mpandas/_libs/index.pyx\u001b[0m in \u001b[0;36mpandas._libs.index.IndexEngine.get_loc\u001b[0;34m()\u001b[0m\n",
      "\u001b[0;32mpandas/_libs/index.pyx\u001b[0m in \u001b[0;36mpandas._libs.index.IndexEngine.get_loc\u001b[0;34m()\u001b[0m\n",
      "\u001b[0;32mpandas/_libs/hashtable_class_helper.pxi\u001b[0m in \u001b[0;36mpandas._libs.hashtable.PyObjectHashTable.get_item\u001b[0;34m()\u001b[0m\n",
      "\u001b[0;32mpandas/_libs/hashtable_class_helper.pxi\u001b[0m in \u001b[0;36mpandas._libs.hashtable.PyObjectHashTable.get_item\u001b[0;34m()\u001b[0m\n",
      "\u001b[0;31mKeyError\u001b[0m: 'qed'",
      "\nDuring handling of the above exception, another exception occurred:\n",
      "\u001b[0;31mKeyError\u001b[0m                                  Traceback (most recent call last)",
      "\u001b[0;32m<ipython-input-72-37d64f78ace5>\u001b[0m in \u001b[0;36m<module>\u001b[0;34m\u001b[0m\n\u001b[1;32m      8\u001b[0m \u001b[0mdf\u001b[0m \u001b[0;34m=\u001b[0m \u001b[0mpd\u001b[0m\u001b[0;34m.\u001b[0m\u001b[0mDataFrame\u001b[0m\u001b[0;34m(\u001b[0m\u001b[0mnp\u001b[0m\u001b[0;34m.\u001b[0m\u001b[0mtranspose\u001b[0m\u001b[0;34m(\u001b[0m\u001b[0;34m(\u001b[0m\u001b[0mZ_pca\u001b[0m\u001b[0;34m[\u001b[0m\u001b[0;34m:\u001b[0m\u001b[0;34m,\u001b[0m\u001b[0;36m0\u001b[0m\u001b[0;34m]\u001b[0m\u001b[0;34m,\u001b[0m\u001b[0mZ_pca\u001b[0m\u001b[0;34m[\u001b[0m\u001b[0;34m:\u001b[0m\u001b[0;34m,\u001b[0m\u001b[0;36m1\u001b[0m\u001b[0;34m]\u001b[0m\u001b[0;34m)\u001b[0m\u001b[0;34m)\u001b[0m\u001b[0;34m)\u001b[0m\u001b[0;34m\u001b[0m\u001b[0;34m\u001b[0m\u001b[0m\n\u001b[1;32m      9\u001b[0m \u001b[0mdf\u001b[0m\u001b[0;34m.\u001b[0m\u001b[0mcolumns\u001b[0m \u001b[0;34m=\u001b[0m \u001b[0;34m[\u001b[0m\u001b[0;34m'x'\u001b[0m\u001b[0;34m,\u001b[0m\u001b[0;34m'y'\u001b[0m\u001b[0;34m]\u001b[0m\u001b[0;34m\u001b[0m\u001b[0;34m\u001b[0m\u001b[0m\n\u001b[0;32m---> 10\u001b[0;31m \u001b[0mdf\u001b[0m\u001b[0;34m[\u001b[0m\u001b[0mprop_opt\u001b[0m\u001b[0;34m]\u001b[0m\u001b[0;34m=\u001b[0m\u001b[0mprop_df\u001b[0m\u001b[0;34m[\u001b[0m\u001b[0mprop_opt\u001b[0m\u001b[0;34m]\u001b[0m\u001b[0;34m\u001b[0m\u001b[0;34m\u001b[0m\u001b[0m\n\u001b[0m\u001b[1;32m     11\u001b[0m \u001b[0;34m\u001b[0m\u001b[0m\n\u001b[1;32m     12\u001b[0m plt.scatter(x=df['x'], y=df['y'], c=df[prop_opt],\n",
      "\u001b[0;32m~/anaconda3/envs/chemvae/lib/python3.6/site-packages/pandas/core/frame.py\u001b[0m in \u001b[0;36m__getitem__\u001b[0;34m(self, key)\u001b[0m\n\u001b[1;32m   2925\u001b[0m             \u001b[0;32mif\u001b[0m \u001b[0mself\u001b[0m\u001b[0;34m.\u001b[0m\u001b[0mcolumns\u001b[0m\u001b[0;34m.\u001b[0m\u001b[0mnlevels\u001b[0m \u001b[0;34m>\u001b[0m \u001b[0;36m1\u001b[0m\u001b[0;34m:\u001b[0m\u001b[0;34m\u001b[0m\u001b[0;34m\u001b[0m\u001b[0m\n\u001b[1;32m   2926\u001b[0m                 \u001b[0;32mreturn\u001b[0m \u001b[0mself\u001b[0m\u001b[0;34m.\u001b[0m\u001b[0m_getitem_multilevel\u001b[0m\u001b[0;34m(\u001b[0m\u001b[0mkey\u001b[0m\u001b[0;34m)\u001b[0m\u001b[0;34m\u001b[0m\u001b[0;34m\u001b[0m\u001b[0m\n\u001b[0;32m-> 2927\u001b[0;31m             \u001b[0mindexer\u001b[0m \u001b[0;34m=\u001b[0m \u001b[0mself\u001b[0m\u001b[0;34m.\u001b[0m\u001b[0mcolumns\u001b[0m\u001b[0;34m.\u001b[0m\u001b[0mget_loc\u001b[0m\u001b[0;34m(\u001b[0m\u001b[0mkey\u001b[0m\u001b[0;34m)\u001b[0m\u001b[0;34m\u001b[0m\u001b[0;34m\u001b[0m\u001b[0m\n\u001b[0m\u001b[1;32m   2928\u001b[0m             \u001b[0;32mif\u001b[0m \u001b[0mis_integer\u001b[0m\u001b[0;34m(\u001b[0m\u001b[0mindexer\u001b[0m\u001b[0;34m)\u001b[0m\u001b[0;34m:\u001b[0m\u001b[0;34m\u001b[0m\u001b[0;34m\u001b[0m\u001b[0m\n\u001b[1;32m   2929\u001b[0m                 \u001b[0mindexer\u001b[0m \u001b[0;34m=\u001b[0m \u001b[0;34m[\u001b[0m\u001b[0mindexer\u001b[0m\u001b[0;34m]\u001b[0m\u001b[0;34m\u001b[0m\u001b[0;34m\u001b[0m\u001b[0m\n",
      "\u001b[0;32m~/anaconda3/envs/chemvae/lib/python3.6/site-packages/pandas/core/indexes/base.py\u001b[0m in \u001b[0;36mget_loc\u001b[0;34m(self, key, method, tolerance)\u001b[0m\n\u001b[1;32m   2656\u001b[0m                 \u001b[0;32mreturn\u001b[0m \u001b[0mself\u001b[0m\u001b[0;34m.\u001b[0m\u001b[0m_engine\u001b[0m\u001b[0;34m.\u001b[0m\u001b[0mget_loc\u001b[0m\u001b[0;34m(\u001b[0m\u001b[0mkey\u001b[0m\u001b[0;34m)\u001b[0m\u001b[0;34m\u001b[0m\u001b[0;34m\u001b[0m\u001b[0m\n\u001b[1;32m   2657\u001b[0m             \u001b[0;32mexcept\u001b[0m \u001b[0mKeyError\u001b[0m\u001b[0;34m:\u001b[0m\u001b[0;34m\u001b[0m\u001b[0;34m\u001b[0m\u001b[0m\n\u001b[0;32m-> 2658\u001b[0;31m                 \u001b[0;32mreturn\u001b[0m \u001b[0mself\u001b[0m\u001b[0;34m.\u001b[0m\u001b[0m_engine\u001b[0m\u001b[0;34m.\u001b[0m\u001b[0mget_loc\u001b[0m\u001b[0;34m(\u001b[0m\u001b[0mself\u001b[0m\u001b[0;34m.\u001b[0m\u001b[0m_maybe_cast_indexer\u001b[0m\u001b[0;34m(\u001b[0m\u001b[0mkey\u001b[0m\u001b[0;34m)\u001b[0m\u001b[0;34m)\u001b[0m\u001b[0;34m\u001b[0m\u001b[0;34m\u001b[0m\u001b[0m\n\u001b[0m\u001b[1;32m   2659\u001b[0m         \u001b[0mindexer\u001b[0m \u001b[0;34m=\u001b[0m \u001b[0mself\u001b[0m\u001b[0;34m.\u001b[0m\u001b[0mget_indexer\u001b[0m\u001b[0;34m(\u001b[0m\u001b[0;34m[\u001b[0m\u001b[0mkey\u001b[0m\u001b[0;34m]\u001b[0m\u001b[0;34m,\u001b[0m \u001b[0mmethod\u001b[0m\u001b[0;34m=\u001b[0m\u001b[0mmethod\u001b[0m\u001b[0;34m,\u001b[0m \u001b[0mtolerance\u001b[0m\u001b[0;34m=\u001b[0m\u001b[0mtolerance\u001b[0m\u001b[0;34m)\u001b[0m\u001b[0;34m\u001b[0m\u001b[0;34m\u001b[0m\u001b[0m\n\u001b[1;32m   2660\u001b[0m         \u001b[0;32mif\u001b[0m \u001b[0mindexer\u001b[0m\u001b[0;34m.\u001b[0m\u001b[0mndim\u001b[0m \u001b[0;34m>\u001b[0m \u001b[0;36m1\u001b[0m \u001b[0;32mor\u001b[0m \u001b[0mindexer\u001b[0m\u001b[0;34m.\u001b[0m\u001b[0msize\u001b[0m \u001b[0;34m>\u001b[0m \u001b[0;36m1\u001b[0m\u001b[0;34m:\u001b[0m\u001b[0;34m\u001b[0m\u001b[0;34m\u001b[0m\u001b[0m\n",
      "\u001b[0;32mpandas/_libs/index.pyx\u001b[0m in \u001b[0;36mpandas._libs.index.IndexEngine.get_loc\u001b[0;34m()\u001b[0m\n",
      "\u001b[0;32mpandas/_libs/index.pyx\u001b[0m in \u001b[0;36mpandas._libs.index.IndexEngine.get_loc\u001b[0;34m()\u001b[0m\n",
      "\u001b[0;32mpandas/_libs/hashtable_class_helper.pxi\u001b[0m in \u001b[0;36mpandas._libs.hashtable.PyObjectHashTable.get_item\u001b[0;34m()\u001b[0m\n",
      "\u001b[0;32mpandas/_libs/hashtable_class_helper.pxi\u001b[0m in \u001b[0;36mpandas._libs.hashtable.PyObjectHashTable.get_item\u001b[0;34m()\u001b[0m\n",
      "\u001b[0;31mKeyError\u001b[0m: 'qed'"
     ]
    }
   ],
   "source": [
    "from sklearn.decomposition import PCA\n",
    "from sklearn.preprocessing import MinMaxScaler\n",
    "\n",
    "# do pca and normalize\n",
    "Z_pca = PCA(n_components=2).fit_transform(Z)\n",
    "Z_pca = MinMaxScaler().fit_transform(Z_pca)\n",
    "\n",
    "df = pd.DataFrame(np.transpose((Z_pca[:,0],Z_pca[:,1])))\n",
    "df.columns = ['x','y']\n",
    "df[prop_opt]=prop_df[prop_opt]\n",
    "\n",
    "plt.scatter(x=df['x'], y=df['y'], c=df[prop_opt],\n",
    "            cmap= 'viridis', marker='.',\n",
    "            s=10,alpha=0.5, edgecolors='none')\n",
    "plt.show()"
   ]
  },
  {
   "cell_type": "markdown",
   "metadata": {},
   "source": [
    "compare with t-SNE, will take some time"
   ]
  },
  {
   "cell_type": "code",
   "execution_count": 73,
   "metadata": {
    "ExecuteTime": {
     "start_time": "2018-01-16T09:18:40.877Z"
    }
   },
   "outputs": [
    {
     "ename": "KeyError",
     "evalue": "'qed'",
     "output_type": "error",
     "traceback": [
      "\u001b[0;31m---------------------------------------------------------------------------\u001b[0m",
      "\u001b[0;31mKeyError\u001b[0m                                  Traceback (most recent call last)",
      "\u001b[0;32m~/anaconda3/envs/chemvae/lib/python3.6/site-packages/pandas/core/indexes/base.py\u001b[0m in \u001b[0;36mget_loc\u001b[0;34m(self, key, method, tolerance)\u001b[0m\n\u001b[1;32m   2655\u001b[0m             \u001b[0;32mtry\u001b[0m\u001b[0;34m:\u001b[0m\u001b[0;34m\u001b[0m\u001b[0;34m\u001b[0m\u001b[0m\n\u001b[0;32m-> 2656\u001b[0;31m                 \u001b[0;32mreturn\u001b[0m \u001b[0mself\u001b[0m\u001b[0;34m.\u001b[0m\u001b[0m_engine\u001b[0m\u001b[0;34m.\u001b[0m\u001b[0mget_loc\u001b[0m\u001b[0;34m(\u001b[0m\u001b[0mkey\u001b[0m\u001b[0;34m)\u001b[0m\u001b[0;34m\u001b[0m\u001b[0;34m\u001b[0m\u001b[0m\n\u001b[0m\u001b[1;32m   2657\u001b[0m             \u001b[0;32mexcept\u001b[0m \u001b[0mKeyError\u001b[0m\u001b[0;34m:\u001b[0m\u001b[0;34m\u001b[0m\u001b[0;34m\u001b[0m\u001b[0m\n",
      "\u001b[0;32mpandas/_libs/index.pyx\u001b[0m in \u001b[0;36mpandas._libs.index.IndexEngine.get_loc\u001b[0;34m()\u001b[0m\n",
      "\u001b[0;32mpandas/_libs/index.pyx\u001b[0m in \u001b[0;36mpandas._libs.index.IndexEngine.get_loc\u001b[0;34m()\u001b[0m\n",
      "\u001b[0;32mpandas/_libs/hashtable_class_helper.pxi\u001b[0m in \u001b[0;36mpandas._libs.hashtable.PyObjectHashTable.get_item\u001b[0;34m()\u001b[0m\n",
      "\u001b[0;32mpandas/_libs/hashtable_class_helper.pxi\u001b[0m in \u001b[0;36mpandas._libs.hashtable.PyObjectHashTable.get_item\u001b[0;34m()\u001b[0m\n",
      "\u001b[0;31mKeyError\u001b[0m: 'qed'",
      "\nDuring handling of the above exception, another exception occurred:\n",
      "\u001b[0;31mKeyError\u001b[0m                                  Traceback (most recent call last)",
      "\u001b[0;32m<ipython-input-73-0383160f7f24>\u001b[0m in \u001b[0;36m<module>\u001b[0;34m\u001b[0m\n\u001b[1;32m      6\u001b[0m \u001b[0mf\u001b[0m \u001b[0;34m=\u001b[0m \u001b[0mpd\u001b[0m\u001b[0;34m.\u001b[0m\u001b[0mDataFrame\u001b[0m\u001b[0;34m(\u001b[0m\u001b[0mnp\u001b[0m\u001b[0;34m.\u001b[0m\u001b[0mtranspose\u001b[0m\u001b[0;34m(\u001b[0m\u001b[0;34m(\u001b[0m\u001b[0mZ_tsne\u001b[0m\u001b[0;34m[\u001b[0m\u001b[0;34m:\u001b[0m\u001b[0;34m,\u001b[0m\u001b[0;36m0\u001b[0m\u001b[0;34m]\u001b[0m\u001b[0;34m,\u001b[0m\u001b[0mZ_tsne\u001b[0m\u001b[0;34m[\u001b[0m\u001b[0;34m:\u001b[0m\u001b[0;34m,\u001b[0m\u001b[0;36m1\u001b[0m\u001b[0;34m]\u001b[0m\u001b[0;34m)\u001b[0m\u001b[0;34m)\u001b[0m\u001b[0;34m)\u001b[0m\u001b[0;34m\u001b[0m\u001b[0;34m\u001b[0m\u001b[0m\n\u001b[1;32m      7\u001b[0m \u001b[0mdf\u001b[0m\u001b[0;34m.\u001b[0m\u001b[0mcolumns\u001b[0m \u001b[0;34m=\u001b[0m \u001b[0;34m[\u001b[0m\u001b[0;34m'x'\u001b[0m\u001b[0;34m,\u001b[0m\u001b[0;34m'y'\u001b[0m\u001b[0;34m]\u001b[0m\u001b[0;34m\u001b[0m\u001b[0;34m\u001b[0m\u001b[0m\n\u001b[0;32m----> 8\u001b[0;31m \u001b[0mdf\u001b[0m\u001b[0;34m[\u001b[0m\u001b[0mprop_opt\u001b[0m\u001b[0;34m]\u001b[0m\u001b[0;34m=\u001b[0m\u001b[0mprop_df\u001b[0m\u001b[0;34m[\u001b[0m\u001b[0mprop_opt\u001b[0m\u001b[0;34m]\u001b[0m\u001b[0;34m\u001b[0m\u001b[0;34m\u001b[0m\u001b[0m\n\u001b[0m\u001b[1;32m      9\u001b[0m \u001b[0;34m\u001b[0m\u001b[0m\n\u001b[1;32m     10\u001b[0m plt.scatter(x=df['x'], y=df['y'], c=df[prop_opt],\n",
      "\u001b[0;32m~/anaconda3/envs/chemvae/lib/python3.6/site-packages/pandas/core/frame.py\u001b[0m in \u001b[0;36m__getitem__\u001b[0;34m(self, key)\u001b[0m\n\u001b[1;32m   2925\u001b[0m             \u001b[0;32mif\u001b[0m \u001b[0mself\u001b[0m\u001b[0;34m.\u001b[0m\u001b[0mcolumns\u001b[0m\u001b[0;34m.\u001b[0m\u001b[0mnlevels\u001b[0m \u001b[0;34m>\u001b[0m \u001b[0;36m1\u001b[0m\u001b[0;34m:\u001b[0m\u001b[0;34m\u001b[0m\u001b[0;34m\u001b[0m\u001b[0m\n\u001b[1;32m   2926\u001b[0m                 \u001b[0;32mreturn\u001b[0m \u001b[0mself\u001b[0m\u001b[0;34m.\u001b[0m\u001b[0m_getitem_multilevel\u001b[0m\u001b[0;34m(\u001b[0m\u001b[0mkey\u001b[0m\u001b[0;34m)\u001b[0m\u001b[0;34m\u001b[0m\u001b[0;34m\u001b[0m\u001b[0m\n\u001b[0;32m-> 2927\u001b[0;31m             \u001b[0mindexer\u001b[0m \u001b[0;34m=\u001b[0m \u001b[0mself\u001b[0m\u001b[0;34m.\u001b[0m\u001b[0mcolumns\u001b[0m\u001b[0;34m.\u001b[0m\u001b[0mget_loc\u001b[0m\u001b[0;34m(\u001b[0m\u001b[0mkey\u001b[0m\u001b[0;34m)\u001b[0m\u001b[0;34m\u001b[0m\u001b[0;34m\u001b[0m\u001b[0m\n\u001b[0m\u001b[1;32m   2928\u001b[0m             \u001b[0;32mif\u001b[0m \u001b[0mis_integer\u001b[0m\u001b[0;34m(\u001b[0m\u001b[0mindexer\u001b[0m\u001b[0;34m)\u001b[0m\u001b[0;34m:\u001b[0m\u001b[0;34m\u001b[0m\u001b[0;34m\u001b[0m\u001b[0m\n\u001b[1;32m   2929\u001b[0m                 \u001b[0mindexer\u001b[0m \u001b[0;34m=\u001b[0m \u001b[0;34m[\u001b[0m\u001b[0mindexer\u001b[0m\u001b[0;34m]\u001b[0m\u001b[0;34m\u001b[0m\u001b[0;34m\u001b[0m\u001b[0m\n",
      "\u001b[0;32m~/anaconda3/envs/chemvae/lib/python3.6/site-packages/pandas/core/indexes/base.py\u001b[0m in \u001b[0;36mget_loc\u001b[0;34m(self, key, method, tolerance)\u001b[0m\n\u001b[1;32m   2656\u001b[0m                 \u001b[0;32mreturn\u001b[0m \u001b[0mself\u001b[0m\u001b[0;34m.\u001b[0m\u001b[0m_engine\u001b[0m\u001b[0;34m.\u001b[0m\u001b[0mget_loc\u001b[0m\u001b[0;34m(\u001b[0m\u001b[0mkey\u001b[0m\u001b[0;34m)\u001b[0m\u001b[0;34m\u001b[0m\u001b[0;34m\u001b[0m\u001b[0m\n\u001b[1;32m   2657\u001b[0m             \u001b[0;32mexcept\u001b[0m \u001b[0mKeyError\u001b[0m\u001b[0;34m:\u001b[0m\u001b[0;34m\u001b[0m\u001b[0;34m\u001b[0m\u001b[0m\n\u001b[0;32m-> 2658\u001b[0;31m                 \u001b[0;32mreturn\u001b[0m \u001b[0mself\u001b[0m\u001b[0;34m.\u001b[0m\u001b[0m_engine\u001b[0m\u001b[0;34m.\u001b[0m\u001b[0mget_loc\u001b[0m\u001b[0;34m(\u001b[0m\u001b[0mself\u001b[0m\u001b[0;34m.\u001b[0m\u001b[0m_maybe_cast_indexer\u001b[0m\u001b[0;34m(\u001b[0m\u001b[0mkey\u001b[0m\u001b[0;34m)\u001b[0m\u001b[0;34m)\u001b[0m\u001b[0;34m\u001b[0m\u001b[0;34m\u001b[0m\u001b[0m\n\u001b[0m\u001b[1;32m   2659\u001b[0m         \u001b[0mindexer\u001b[0m \u001b[0;34m=\u001b[0m \u001b[0mself\u001b[0m\u001b[0;34m.\u001b[0m\u001b[0mget_indexer\u001b[0m\u001b[0;34m(\u001b[0m\u001b[0;34m[\u001b[0m\u001b[0mkey\u001b[0m\u001b[0;34m]\u001b[0m\u001b[0;34m,\u001b[0m \u001b[0mmethod\u001b[0m\u001b[0;34m=\u001b[0m\u001b[0mmethod\u001b[0m\u001b[0;34m,\u001b[0m \u001b[0mtolerance\u001b[0m\u001b[0;34m=\u001b[0m\u001b[0mtolerance\u001b[0m\u001b[0;34m)\u001b[0m\u001b[0;34m\u001b[0m\u001b[0;34m\u001b[0m\u001b[0m\n\u001b[1;32m   2660\u001b[0m         \u001b[0;32mif\u001b[0m \u001b[0mindexer\u001b[0m\u001b[0;34m.\u001b[0m\u001b[0mndim\u001b[0m \u001b[0;34m>\u001b[0m \u001b[0;36m1\u001b[0m \u001b[0;32mor\u001b[0m \u001b[0mindexer\u001b[0m\u001b[0;34m.\u001b[0m\u001b[0msize\u001b[0m \u001b[0;34m>\u001b[0m \u001b[0;36m1\u001b[0m\u001b[0;34m:\u001b[0m\u001b[0;34m\u001b[0m\u001b[0;34m\u001b[0m\u001b[0m\n",
      "\u001b[0;32mpandas/_libs/index.pyx\u001b[0m in \u001b[0;36mpandas._libs.index.IndexEngine.get_loc\u001b[0;34m()\u001b[0m\n",
      "\u001b[0;32mpandas/_libs/index.pyx\u001b[0m in \u001b[0;36mpandas._libs.index.IndexEngine.get_loc\u001b[0;34m()\u001b[0m\n",
      "\u001b[0;32mpandas/_libs/hashtable_class_helper.pxi\u001b[0m in \u001b[0;36mpandas._libs.hashtable.PyObjectHashTable.get_item\u001b[0;34m()\u001b[0m\n",
      "\u001b[0;32mpandas/_libs/hashtable_class_helper.pxi\u001b[0m in \u001b[0;36mpandas._libs.hashtable.PyObjectHashTable.get_item\u001b[0;34m()\u001b[0m\n",
      "\u001b[0;31mKeyError\u001b[0m: 'qed'"
     ]
    }
   ],
   "source": [
    "from sklearn.manifold import TSNE\n",
    "\n",
    "Z_tsne = TSNE(n_components=2).fit_transform(Z)\n",
    "Z_tsne = MinMaxScaler().fit_transform(Z_tsne)\n",
    "\n",
    "f = pd.DataFrame(np.transpose((Z_tsne[:,0],Z_tsne[:,1])))\n",
    "df.columns = ['x','y']\n",
    "df[prop_opt]=prop_df[prop_opt]\n",
    "\n",
    "plt.scatter(x=df['x'], y=df['y'], c=df[prop_opt],\n",
    "            cmap= 'viridis', marker='.',\n",
    "            s=10,alpha=0.5, edgecolors='none')\n",
    "plt.show()"
   ]
  }
 ],
 "metadata": {
  "celltoolbar": "Raw Cell Format",
  "kernelspec": {
   "display_name": "Python 3",
   "language": "python",
   "name": "python3"
  },
  "toc": {
   "nav_menu": {},
   "number_sections": true,
   "sideBar": true,
   "skip_h1_title": false,
   "toc_cell": false,
   "toc_position": {},
   "toc_section_display": "block",
   "toc_window_display": false
  },
  "varInspector": {
   "cols": {
    "lenName": 16,
    "lenType": 16,
    "lenVar": 40
   },
   "kernels_config": {
    "python": {
     "delete_cmd_postfix": "",
     "delete_cmd_prefix": "del ",
     "library": "var_list.py",
     "varRefreshCmd": "print(var_dic_list())"
    },
    "r": {
     "delete_cmd_postfix": ") ",
     "delete_cmd_prefix": "rm(",
     "library": "var_list.r",
     "varRefreshCmd": "cat(var_dic_list()) "
    }
   },
   "types_to_exclude": [
    "module",
    "function",
    "builtin_function_or_method",
    "instance",
    "_Feature"
   ],
   "window_display": false
  }
 },
 "nbformat": 4,
 "nbformat_minor": 2
}
