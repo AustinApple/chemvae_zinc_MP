{
 "cells": [
  {
   "cell_type": "markdown",
   "metadata": {
    "ExecuteTime": {
     "end_time": "2018-01-15T19:20:12.319249Z",
     "start_time": "2018-01-15T19:20:12.314813Z"
    }
   },
   "source": [
    "## Load libraries"
   ]
  },
  {
   "cell_type": "code",
   "execution_count": 1,
   "metadata": {
    "ExecuteTime": {
     "end_time": "2019-04-27T12:22:19.821083Z",
     "start_time": "2019-04-27T12:22:14.380196Z"
    }
   },
   "outputs": [
    {
     "name": "stderr",
     "output_type": "stream",
     "text": [
      "Using TensorFlow backend.\n"
     ]
    }
   ],
   "source": [
    "# tensorflow backend\n",
    "%load_ext autoreload\n",
    "%autoreload 2\n",
    "from os import environ\n",
    "environ['KERAS_BACKEND'] = 'tensorflow'\n",
    "# vae stuff\n",
    "from chemvae.vae_utils import VAEUtils\n",
    "from chemvae import mol_utils as mu\n",
    "# import scientific py\n",
    "import numpy as np\n",
    "import pandas as pd\n",
    "# rdkit stuff\n",
    "from rdkit.Chem import AllChem as Chem\n",
    "from rdkit.Chem import PandasTools\n",
    "# plotting stuff\n",
    "import matplotlib.pyplot as plt\n",
    "import matplotlib as mpl\n",
    "from IPython.display import SVG, display\n",
    "import chemvae\n",
    "%config InlineBackend.figure_format = 'retina'\n",
    "%matplotlib inline\n"
   ]
  },
  {
   "cell_type": "markdown",
   "metadata": {},
   "source": [
    "# Load a model"
   ]
  },
  {
   "cell_type": "code",
   "execution_count": 49,
   "metadata": {
    "ExecuteTime": {
     "end_time": "2019-03-28T12:20:59.964110Z",
     "start_time": "2019-03-28T12:20:59.909654Z"
    }
   },
   "outputs": [
    {
     "data": {
      "text/plain": [
       "['/Users/apple/anaconda3/envs/chemvae/lib/python3.6/site-packages/chemvae']"
      ]
     },
     "execution_count": 49,
     "metadata": {},
     "output_type": "execute_result"
    }
   ],
   "source": [
    "chemvae.__path__"
   ]
  },
  {
   "cell_type": "code",
   "execution_count": 2,
   "metadata": {
    "ExecuteTime": {
     "end_time": "2019-04-27T12:22:38.263050Z",
     "start_time": "2019-04-27T12:22:25.587331Z"
    }
   },
   "outputs": [
    {
     "name": "stdout",
     "output_type": "stream",
     "text": [
      "/Users/apple/Desktop/鋰電池電解液/VAE_molecule/chemical_vae/models/MP_zinc\n",
      "hellow world\n"
     ]
    },
    {
     "name": "stderr",
     "output_type": "stream",
     "text": [
      "/Users/apple/anaconda3/envs/chemvae/lib/python3.6/site-packages/keras/models.py:251: UserWarning: No training configuration found in save file: the model was *not* compiled. Compile it manually.\n",
      "  warnings.warn('No training configuration found in save file: '\n"
     ]
    },
    {
     "name": "stdout",
     "output_type": "stream",
     "text": [
      "Using standarized functions? True\n",
      "Standarization: estimating mu and std values ...the program had really come to here!!\n",
      "Now we gonna to save the latentspace of MP_zinc !!\n",
      "(17810, 196)\n",
      "done!\n"
     ]
    }
   ],
   "source": [
    "import os\n",
    "os.chdir(\"/Users/apple/Desktop/鋰電池電解液/VAE_molecule/chemical_vae/models/MP_zinc\")\n",
    "\n",
    "print(os.getcwd())\n",
    "\n",
    "vae = VAEUtils()"
   ]
  },
  {
   "cell_type": "markdown",
   "metadata": {},
   "source": [
    "# Using the VAE\n"
   ]
  },
  {
   "cell_type": "markdown",
   "metadata": {},
   "source": [
    "## Decode/Encode \n",
    "\n",
    "Might not be perfect (it's probabilistic), try it several times.\n",
    "\n",
    "smiles <i class=\"fa fa-arrow-right\" aria-hidden=\"true\"></i> x <i class=\"fa fa-arrow-right\" aria-hidden=\"true\"></i> z <i class=\"fa fa-arrow-right\" aria-hidden=\"true\"></i> x_r <i class=\"fa fa-arrow-right\" aria-hidden=\"true\"></i> smiles_r"
   ]
  },
  {
   "cell_type": "code",
   "execution_count": 54,
   "metadata": {
    "ExecuteTime": {
     "end_time": "2019-03-28T13:30:00.460340Z",
     "start_time": "2019-03-28T13:30:00.392308Z"
    },
    "slideshow": {
     "slide_type": "slide"
    }
   },
   "outputs": [
    {
     "name": "stdout",
     "output_type": "stream",
     "text": [
      "(1, 196)\n"
     ]
    }
   ],
   "source": [
    "import Levenshtein  \n",
    "#smiles_1 = mu.canon_smiles('Cn1nccc1I')    # 0~10_zinc\n",
    "#smiles_1 = mu.canon_smiles('Oc1ccsc1O')    # 0~10_MP\n",
    "\n",
    "#smiles_1 = mu.canon_smiles('Cc1ccc(F)c(Br)n1')     # 10~20_zinc\n",
    "#smiles_1 = mu.canon_smiles('C=CC1=C(C)OC=CO1')     # 10~20_MP\n",
    "\n",
    "#smiles_1 = mu.canon_smiles('Cc1cc(Br)ccc1CNC(=O)C1CC=CC1')     # 20~30_zinc \n",
    "#smiles_1 = mu.canon_smiles('CN(C)C1=COC=C(N(C)C)O1')     # 20~30_MP\n",
    "\n",
    "#smiles_1 = mu.canon_smiles('Cc1cc(Cl)ccc1OCC(=O)N/N=C/c1ccccn1')     # 30~40_zinc \n",
    "# smiles_1 = mu.canon_smiles('CN(C)[C@@H]1OCCO[C@@H]1c1ccccc1')     # 30~40_MP\n",
    "\n",
    "#smiles_1 = mu.canon_smiles('Cc1nc2c(c(Nc3ncc(C)s3)n1)CCN(C(=O)CCc1ccccc1)C2')     # 40~50_zinc\n",
    "#smiles_1 = mu.canon_smiles('CN1CCN(C)[C@H]([N+](=O)[O-])[C@@H]1[N+](=O)[O-]')     # 40~50_MP\n",
    "\n",
    "#smiles_1 = mu.canon_smiles('CCOC(=O)[C@@H]1CCCN(C(=O)c2nc(-c3ccc(C)cc3)n3c2CCCCC3)C1')     # 50~60_zinc\n",
    "# smiles_1 = mu.canon_smiles('COCCOCCOCCOCN1C=CC(=C2C=CN(C)C(C(Cl)(Cl)Cl)=C2)C=C1')     # 50~60_MP\n",
    "\n",
    "#smiles_1 = mu.canon_smiles('CC(=O)Nc1c2n(c3ccccc13)C[C@](C)(C(=O)NC1CCCCC1)N(C1CCCCC1)C2=O')     # 60~70_zinc\n",
    "#smiles_1 = mu.canon_smiles('c1ccc2c(c1)ccc1[nH]c3ccc4c(c3c12)[C@@H]1[C@@H]2[C@H]4[C@@H]21')     # 60~70_MP\n",
    "\n",
    "#smiles_1 = mu.canon_smiles('CC(=O)N[C@@H]1C(=O)C[C@@H]2[C@H]3CCC4=CC(=O)CC[C@@]4(C)[C@@H]3CC[C@]12C')     # 70~80_zinc \n",
    "#smiles_1 = mu.canon_smiles('O=c1c2ccc3c4ccc5c6c(ccc(c7ccc(c2c37)c2nc3ccccc3n12)c46)c(=O)n1c2ccccc2nc51')     # 70~80_MP\n",
    "\n",
    "smiles_1 = mu.canon_smiles('CC(C)(C)c1ccc2occ(CC(=O)Nc3ccccc3F)c2c1')    # test\n",
    "\n",
    "\n",
    "X_1 = vae.smiles_to_hot(smiles_1,canonize_smiles=True)\n",
    "\n",
    "\n",
    "z_1 = vae.encode(X_1,False)\n",
    "\n",
    "\n",
    "print(z_1.shape)\n",
    "\n",
    "\n",
    "# # X_r= vae.decode(z_1)\n",
    "# list_score = [] \n",
    "# print('{:24s} : {}'.format('input',smiles_1))\n",
    "# for i in range(1):\n",
    "#     try:\n",
    "#         z_1 = vae.encode(X_1)\n",
    "#         X_r= vae.decode(z_1)\n",
    "#         smile_r = vae.hot_to_smiles(X_r,strip=True)[0]\n",
    "#         if i < 10:\n",
    "#             print('{:20s} : {}'.format('reconstruction',smile_r))\n",
    "# #         print('{:20s} : {}'.format('Reconstruction',vae.hot_to_smiles(X_r,strip=True)[0]))\n",
    "# #         print(Levenshtein.hamming(smiles_1,smile_r))\n",
    "#         list_score.append(Levenshtein.distance(smiles_1,smile_r))\n",
    "#     except:\n",
    "#         pass\n",
    "# print('the length of input smile:',len(smiles_1))\n",
    "\n",
    "# print(\"test 100 times \")\n",
    "\n",
    "# print('avg error:', sum(list_score)/len(list_score))\n",
    "# print('avg error ratio:',(sum(list_score)/len(list_score))/len(smiles_1))\n",
    "\n"
   ]
  },
  {
   "cell_type": "code",
   "execution_count": null,
   "metadata": {
    "ExecuteTime": {
     "end_time": "2019-04-06T02:27:59.460622Z",
     "start_time": "2019-04-06T02:27:29.174066Z"
    },
    "scrolled": false
   },
   "outputs": [],
   "source": [
    "from rdkit import Chem\n",
    "from rdkit.Chem import AllChem\n",
    "from rdkit.Chem.Draw import IPythonConsole\n",
    "from IPython.display import SVG\n",
    "from rdkit.Chem import rdDepictor\n",
    "from rdkit.Chem.Draw import rdMolDraw2D\n",
    "from rdkit.Chem import Draw\n",
    "import pandas as pd \n",
    "import numpy as np \n",
    "\n",
    "error = 0 \n",
    "valid_smile = []\n",
    "mols = [] \n",
    "ls = np.load(\"./latenspace_MP_zinc_test.npy\")\n",
    "df_ls = pd.DataFrame(ls)\n",
    "df_ls_distribution = df_ls.describe()\n",
    "ls_range = df_ls_distribution.loc[[\"min\",\"max\"],:]\n",
    "ls_sample = np.zeros((1,196))\n",
    "\n",
    "for t in range(10):\n",
    "    for i in range(196):\n",
    "        ls_sample[0,i] = np.random.uniform(ls_range[i][0], ls_range[i][1])\n",
    "    df = vae.z_to_smiles(ls_sample, decode_attempts=50, noise_norm=0.0)\n",
    "    try: \n",
    "        smile = df[df[\"count\"] == df[\"count\"].max()][\"smiles\"][0]\n",
    "        print(smile)\n",
    "        valid_smile.append(smile)\n",
    "        mols.append(Chem.MolFromSmiles(smile))\n",
    "    except :\n",
    "        print(\"There are no smiles could be generated\")\n",
    "        error+=1\n",
    "    \n",
    "\n",
    "# img=Draw.MolsToGridImage(mols[:20],molsPerRow=4,subImgSize=(200,200),useSVG=True,highlightAtomLists=highlightAtomList)\n",
    "img=Draw.MolsToGridImage(mols,molsPerRow=4,subImgSize=(200,200),useSVG=True)\n",
    "# img.save(\"C=CN_1840_structure.png\")\n",
    "img\n",
    "print(\"error times\",error)"
   ]
  },
  {
   "cell_type": "code",
   "execution_count": 115,
   "metadata": {
    "ExecuteTime": {
     "end_time": "2019-04-06T07:10:42.855512Z",
     "start_time": "2019-04-06T07:10:42.804049Z"
    }
   },
   "outputs": [
    {
     "data": {
      "image/svg+xml": [
       "<svg baseProfile=\"full\" height=\"200px\" version=\"1.1\" width=\"800px\" xml:space=\"preserve\" xmlns=\"http://www.w3.org/2000/svg\" xmlns:rdkit=\"http://www.rdkit.org/xml\" xmlns:xlink=\"http://www.w3.org/1999/xlink\">\n",
       "<rect height=\"200\" style=\"opacity:1.0;fill:#FFFFFF;stroke:none\" width=\"800\" x=\"0\" y=\"0\"> </rect>\n",
       "<path d=\"M 111.706,161.838 113.947,153.981\" style=\"fill:none;fill-rule:evenodd;stroke:#000000;stroke-width:2px;stroke-linecap:butt;stroke-linejoin:miter;stroke-opacity:1\"/>\n",
       "<path d=\"M 113.947,153.981 116.188,146.123\" style=\"fill:none;fill-rule:evenodd;stroke:#0000FF;stroke-width:2px;stroke-linecap:butt;stroke-linejoin:miter;stroke-opacity:1\"/>\n",
       "<path d=\"M 122.838,141.396 129.569,139.707\" style=\"fill:none;fill-rule:evenodd;stroke:#0000FF;stroke-width:2px;stroke-linecap:butt;stroke-linejoin:miter;stroke-opacity:1\"/>\n",
       "<path d=\"M 129.569,139.707 136.3,138.019\" style=\"fill:none;fill-rule:evenodd;stroke:#000000;stroke-width:2px;stroke-linecap:butt;stroke-linejoin:miter;stroke-opacity:1\"/>\n",
       "<path d=\"M 136.3,138.019 141.721,119.009\" style=\"fill:none;fill-rule:evenodd;stroke:#000000;stroke-width:2px;stroke-linecap:butt;stroke-linejoin:miter;stroke-opacity:1\"/>\n",
       "<path d=\"M 141.721,119.009 160.894,114.199\" style=\"fill:none;fill-rule:evenodd;stroke:#000000;stroke-width:2px;stroke-linecap:butt;stroke-linejoin:miter;stroke-opacity:1\"/>\n",
       "<path d=\"M 160.894,114.199 166.315,95.19\" style=\"fill:none;fill-rule:evenodd;stroke:#000000;stroke-width:2px;stroke-linecap:butt;stroke-linejoin:miter;stroke-opacity:1\"/>\n",
       "<path d=\"M 166.315,95.19 152.563,80.9906\" style=\"fill:none;fill-rule:evenodd;stroke:#000000;stroke-width:2px;stroke-linecap:butt;stroke-linejoin:miter;stroke-opacity:1\"/>\n",
       "<path d=\"M 167.092,90.3096 157.466,80.3701\" style=\"fill:none;fill-rule:evenodd;stroke:#000000;stroke-width:2px;stroke-linecap:butt;stroke-linejoin:miter;stroke-opacity:1\"/>\n",
       "<path d=\"M 166.315,95.19 185.488,90.3799\" style=\"fill:none;fill-rule:evenodd;stroke:#000000;stroke-width:2px;stroke-linecap:butt;stroke-linejoin:miter;stroke-opacity:1\"/>\n",
       "<path d=\"M 152.563,80.9906 133.39,85.8007\" style=\"fill:none;fill-rule:evenodd;stroke:#000000;stroke-width:2px;stroke-linecap:butt;stroke-linejoin:miter;stroke-opacity:1\"/>\n",
       "<path d=\"M 152.563,80.9906 157.984,61.9812\" style=\"fill:none;fill-rule:evenodd;stroke:#000000;stroke-width:2px;stroke-linecap:butt;stroke-linejoin:miter;stroke-opacity:1\"/>\n",
       "<path d=\"M 131.489,85.2586 129.248,93.116\" style=\"fill:none;fill-rule:evenodd;stroke:#000000;stroke-width:2px;stroke-linecap:butt;stroke-linejoin:miter;stroke-opacity:1\"/>\n",
       "<path d=\"M 129.248,93.116 127.008,100.973\" style=\"fill:none;fill-rule:evenodd;stroke:#FF0000;stroke-width:2px;stroke-linecap:butt;stroke-linejoin:miter;stroke-opacity:1\"/>\n",
       "<path d=\"M 135.291,86.3427 133.05,94.2002\" style=\"fill:none;fill-rule:evenodd;stroke:#000000;stroke-width:2px;stroke-linecap:butt;stroke-linejoin:miter;stroke-opacity:1\"/>\n",
       "<path d=\"M 133.05,94.2002 130.809,102.058\" style=\"fill:none;fill-rule:evenodd;stroke:#FF0000;stroke-width:2px;stroke-linecap:butt;stroke-linejoin:miter;stroke-opacity:1\"/>\n",
       "<path d=\"M 133.39,85.8007 119.638,71.6013\" style=\"fill:none;fill-rule:evenodd;stroke:#000000;stroke-width:2px;stroke-linecap:butt;stroke-linejoin:miter;stroke-opacity:1\"/>\n",
       "<path d=\"M 119.638,71.6013 100.465,76.4113\" style=\"fill:none;fill-rule:evenodd;stroke:#000000;stroke-width:2px;stroke-linecap:butt;stroke-linejoin:miter;stroke-opacity:1\"/>\n",
       "<path d=\"M 100.465,76.4113 81.2915,81.2214\" style=\"fill:none;fill-rule:evenodd;stroke:#000000;stroke-width:2px;stroke-linecap:butt;stroke-linejoin:miter;stroke-opacity:1\"/>\n",
       "<path d=\"M 96.6266,73.2982 83.2055,76.6653\" style=\"fill:none;fill-rule:evenodd;stroke:#000000;stroke-width:2px;stroke-linecap:butt;stroke-linejoin:miter;stroke-opacity:1\"/>\n",
       "<path d=\"M 98.5507,80.9675 85.1295,84.3345\" style=\"fill:none;fill-rule:evenodd;stroke:#000000;stroke-width:2px;stroke-linecap:butt;stroke-linejoin:miter;stroke-opacity:1\"/>\n",
       "<path d=\"M 62.1185,86.0314 81.7725,83.1387 80.8105,79.3041 62.1185,86.0314\" style=\"fill:#000000;fill-rule:evenodd;stroke:#000000;stroke-width:2px;stroke-linecap:butt;stroke-linejoin:miter;stroke-opacity:1\"/>\n",
       "<path d=\"M 62.1185,86.0314 54.7402,104.37\" style=\"fill:none;fill-rule:evenodd;stroke:#000000;stroke-width:2px;stroke-linecap:butt;stroke-linejoin:miter;stroke-opacity:1\"/>\n",
       "<path d=\"M 62.1185,86.0314 46.9574,73.3474\" style=\"fill:none;fill-rule:evenodd;stroke:#000000;stroke-width:2px;stroke-linecap:butt;stroke-linejoin:miter;stroke-opacity:1\"/>\n",
       "<path d=\"M 54.7402,104.37 35.0191,103.02\" style=\"fill:none;fill-rule:evenodd;stroke:#000000;stroke-width:2px;stroke-linecap:butt;stroke-linejoin:miter;stroke-opacity:1\"/>\n",
       "<path d=\"M 35.0191,103.02 30.2091,83.8468\" style=\"fill:none;fill-rule:evenodd;stroke:#000000;stroke-width:2px;stroke-linecap:butt;stroke-linejoin:miter;stroke-opacity:1\"/>\n",
       "<path d=\"M 28.449,82.9256 28.3015,83.2924\" style=\"fill:none;fill-rule:evenodd;stroke:#000000;stroke-width:1px;stroke-linecap:butt;stroke-linejoin:miter;stroke-opacity:1\"/>\n",
       "<path d=\"M 26.6889,82.0044 26.3938,82.7379\" style=\"fill:none;fill-rule:evenodd;stroke:#000000;stroke-width:1px;stroke-linecap:butt;stroke-linejoin:miter;stroke-opacity:1\"/>\n",
       "<path d=\"M 24.9289,81.0832 24.4862,82.1835\" style=\"fill:none;fill-rule:evenodd;stroke:#000000;stroke-width:1px;stroke-linecap:butt;stroke-linejoin:miter;stroke-opacity:1\"/>\n",
       "<path d=\"M 23.1688,80.162 22.5785,81.6291\" style=\"fill:none;fill-rule:evenodd;stroke:#000000;stroke-width:1px;stroke-linecap:butt;stroke-linejoin:miter;stroke-opacity:1\"/>\n",
       "<path d=\"M 21.4087,79.2408 20.6709,81.0746\" style=\"fill:none;fill-rule:evenodd;stroke:#000000;stroke-width:1px;stroke-linecap:butt;stroke-linejoin:miter;stroke-opacity:1\"/>\n",
       "<path d=\"M 19.6486,78.3195 18.7632,80.5202\" style=\"fill:none;fill-rule:evenodd;stroke:#000000;stroke-width:1px;stroke-linecap:butt;stroke-linejoin:miter;stroke-opacity:1\"/>\n",
       "<path d=\"M 17.8885,77.3983 16.8556,79.9657\" style=\"fill:none;fill-rule:evenodd;stroke:#000000;stroke-width:1px;stroke-linecap:butt;stroke-linejoin:miter;stroke-opacity:1\"/>\n",
       "<path d=\"M 16.1285,76.4771 14.9479,79.4113\" style=\"fill:none;fill-rule:evenodd;stroke:#000000;stroke-width:1px;stroke-linecap:butt;stroke-linejoin:miter;stroke-opacity:1\"/>\n",
       "<path d=\"M 14.3684,75.5559 13.0403,78.8569\" style=\"fill:none;fill-rule:evenodd;stroke:#000000;stroke-width:1px;stroke-linecap:butt;stroke-linejoin:miter;stroke-opacity:1\"/>\n",
       "<path d=\"M 12.6083,74.6347 11.1327,78.3024\" style=\"fill:none;fill-rule:evenodd;stroke:#000000;stroke-width:1px;stroke-linecap:butt;stroke-linejoin:miter;stroke-opacity:1\"/>\n",
       "<path d=\"M 30.2091,83.8468 46.9574,73.3474\" style=\"fill:none;fill-rule:evenodd;stroke:#000000;stroke-width:2px;stroke-linecap:butt;stroke-linejoin:miter;stroke-opacity:1\"/>\n",
       "<path d=\"M 11.8705,76.4686 10.7146,68.3304\" style=\"fill:none;fill-rule:evenodd;stroke:#000000;stroke-width:2px;stroke-linecap:butt;stroke-linejoin:miter;stroke-opacity:1\"/>\n",
       "<path d=\"M 10.7146,68.3304 9.55882,60.1923\" style=\"fill:none;fill-rule:evenodd;stroke:#7F4C19;stroke-width:2px;stroke-linecap:butt;stroke-linejoin:miter;stroke-opacity:1\"/>\n",
       "<path d=\"M 157.984,61.9812 177.157,57.1712\" style=\"fill:none;fill-rule:evenodd;stroke:#000000;stroke-width:2px;stroke-linecap:butt;stroke-linejoin:miter;stroke-opacity:1\"/>\n",
       "<path d=\"M 161.822,65.0943 175.243,61.7273\" style=\"fill:none;fill-rule:evenodd;stroke:#000000;stroke-width:2px;stroke-linecap:butt;stroke-linejoin:miter;stroke-opacity:1\"/>\n",
       "<path d=\"M 177.157,57.1712 179.398,49.3137\" style=\"fill:none;fill-rule:evenodd;stroke:#000000;stroke-width:2px;stroke-linecap:butt;stroke-linejoin:miter;stroke-opacity:1\"/>\n",
       "<path d=\"M 179.398,49.3137 181.638,41.4563\" style=\"fill:none;fill-rule:evenodd;stroke:#33CCCC;stroke-width:2px;stroke-linecap:butt;stroke-linejoin:miter;stroke-opacity:1\"/>\n",
       "<path d=\"M 177.157,57.1712 190.909,71.3705\" style=\"fill:none;fill-rule:evenodd;stroke:#000000;stroke-width:2px;stroke-linecap:butt;stroke-linejoin:miter;stroke-opacity:1\"/>\n",
       "<path d=\"M 190.909,71.3705 185.488,90.3799\" style=\"fill:none;fill-rule:evenodd;stroke:#000000;stroke-width:2px;stroke-linecap:butt;stroke-linejoin:miter;stroke-opacity:1\"/>\n",
       "<text style=\"font-size:6px;font-style:normal;font-weight:normal;fill-opacity:1;stroke:none;font-family:sans-serif;text-anchor:start;fill:#0000FF\" x=\"111.416\" y=\"146.123\"><tspan>NH</tspan></text>\n",
       "<text style=\"font-size:6px;font-style:normal;font-weight:normal;fill-opacity:1;stroke:none;font-family:sans-serif;text-anchor:start;fill:#FF0000\" x=\"124.892\" y=\"108.105\"><tspan>O</tspan></text>\n",
       "<text style=\"font-size:6px;font-style:normal;font-weight:normal;fill-opacity:1;stroke:none;font-family:sans-serif;text-anchor:start;fill:#7F4C19\" x=\"5.13588\" y=\"60.1923\"><tspan>Br</tspan></text>\n",
       "<text style=\"font-size:6px;font-style:normal;font-weight:normal;fill-opacity:1;stroke:none;font-family:sans-serif;text-anchor:start;fill:#33CCCC\" x=\"180.161\" y=\"41.4563\"><tspan>F</tspan></text>\n",
       "</svg>"
      ],
      "text/plain": [
       "<IPython.core.display.SVG object>"
      ]
     },
     "execution_count": 115,
     "metadata": {},
     "output_type": "execute_result"
    }
   ],
   "source": [
    "img=Draw.MolsToGridImage(mols,molsPerRow=4,subImgSize=(200,200), useSVG=True)\n",
    "img"
   ]
  },
  {
   "cell_type": "code",
   "execution_count": null,
   "metadata": {
    "ExecuteTime": {
     "end_time": "2019-04-28T07:18:43.714200Z",
     "start_time": "2019-04-28T07:18:14.381951Z"
    },
    "scrolled": true
   },
   "outputs": [],
   "source": [
    "import ML_utils\n",
    "ls = np.load(\"./latenspace_MP_zinc_test.npy\")\n",
    "df_ls = pd.DataFrame(ls)\n",
    "df_ls_distribution = df_ls.describe()\n",
    "ls_range = df_ls_distribution.loc[[\"min\",\"max\"],:]\n",
    "ls_sample = np.zeros((1,196))\n",
    "\n",
    "noise =1\n",
    "decodeattempts = 500\n",
    "\n",
    "for i in range(196):\n",
    "    ls_sample[0,i] = np.random.uniform(ls_range[i][0], ls_range[i][1])\n",
    "property_value = vae.predict_prop_Z(ls_sample,False)\n",
    "\n",
    "df = vae.z_to_smiles(ls_sample, decode_attempts=decodeattempts, noise_norm=noise)\n",
    "# try: \n",
    "# smile = df[df[\"count\"] == df[\"count\"].max()][\"smiles\"][0]\n",
    "# list_2_3.append(smile)"
   ]
  },
  {
   "cell_type": "code",
   "execution_count": 24,
   "metadata": {
    "ExecuteTime": {
     "end_time": "2019-04-28T07:22:11.875859Z",
     "start_time": "2019-04-28T07:22:08.975898Z"
    },
    "scrolled": true
   },
   "outputs": [
    {
     "data": {
      "text/plain": [
       "[]"
      ]
     },
     "execution_count": 24,
     "metadata": {},
     "output_type": "execute_result"
    }
   ],
   "source": [
    "import ML_utils\n",
    "from rdkit.Chem import AllChem\n",
    "from rdkit import Chem, DataStructs\n",
    "from sklearn.model_selection import train_test_split\n",
    "from sklearn.preprocessing import StandardScaler\n",
    "from sklearn.neural_network import MLPRegressor\n",
    "from sklearn.metrics import classification_report,confusion_matrix\n",
    "from sklearn import preprocessing\n",
    "from sklearn import utils\n",
    "from sklearn.metrics import mean_squared_error, mean_absolute_error\n",
    "from matplotlib import pyplot as plt\n",
    "from sklearn.ensemble import RandomForestRegressor\n",
    "from sklearn.externals import joblib\n",
    "from sklearn.model_selection import train_test_split\n",
    "import openbabel\n",
    "import os\n",
    "def filter_IE(list_smile, IE_range):\n",
    "    data_ECFP_num= ML_utils.featurize(list_smile, do_smile2ECFP_2048_number=True)\n",
    "    data_SYBYL_ECFP = ML_utils.featurize(list_smile, do_smile2_SYBYL_ECFP=True)\n",
    "\n",
    "    ECFPNUM_IE_predictor= joblib.load('./ECFPNUM_IE.pkl')\n",
    "    SYBYL_ECFP_IE_predictor = joblib.load('./SYBYLECFP_IE.pkl')\n",
    "\n",
    "    data_ECFP_num['IE'] = ECFPNUM_IE_predictor.predict(data_ECFP_num[[\"num_\"+str(i) for i in range(2048)]])\n",
    "    data_SYBYL_ECFP['IE'] = SYBYL_ECFP_IE_predictor.predict(data_SYBYL_ECFP.drop(['smile'], axis=1))\n",
    "    list_IE = list(set(data_ECFP_num[(data_ECFP_num['IE'] > IE_range[0]) & (data_ECFP_num['IE'] < IE_range[1])]['smile']) &\n",
    "                   set(data_SYBYL_ECFP[(data_SYBYL_ECFP['IE'] > IE_range[0]) & (data_SYBYL_ECFP['IE'] < IE_range[1])]['smile']))\n",
    "    return list_IE\n",
    "# list_3_4 = filter_IE(list(data['smiles']),[3,4])\n",
    "# list_3_4\n",
    "list_3_4 = filter_IE(list(df['smiles']),[3,4])\n",
    "list_3_4"
   ]
  },
  {
   "cell_type": "code",
   "execution_count": null,
   "metadata": {
    "ExecuteTime": {
     "end_time": "2019-04-06T07:46:05.778043Z",
     "start_time": "2019-04-06T07:42:35.143466Z"
    }
   },
   "outputs": [],
   "source": [
    "list_2_3 = [] \n",
    "list_3_4 = []\n",
    "list_4_5 = []\n",
    "list_5_6 = [] \n",
    "ls = np.load(\"./latenspace_MP_zinc_test.npy\")\n",
    "df_ls = pd.DataFrame(ls)\n",
    "df_ls_distribution = df_ls.describe()\n",
    "ls_range = df_ls_distribution.loc[[\"min\",\"max\"],:]\n",
    "ls_sample = np.zeros((1,196))\n",
    "\n",
    "noise =1\n",
    "decodeattempts = 400\n",
    "\n",
    "for t in range(10):\n",
    "    print(\"this is the\",t,\"loop\")\n",
    "    for i in range(196):\n",
    "        ls_sample[0,i] = np.random.uniform(ls_range[i][0], ls_range[i][1])\n",
    "    property_value = vae.predict_prop_Z(ls_sample,False)\n",
    "\n",
    "    if (property_value > 2 and  property_value < 3) :\n",
    "        df = vae.z_to_smiles(ls_sample, decode_attempts=decodeattempts, noise_norm=noise)\n",
    "        try: \n",
    "            list_meet = filter_IE(list(df['smiles']),[2,3])\n",
    "            for smile in list_meet:\n",
    "                list_2_3.append(smile)\n",
    "        except :\n",
    "            pass\n",
    "\n",
    "    elif (property_value > 3 and  property_value < 4) :\n",
    "        df = vae.z_to_smiles(ls_sample, decode_attempts=decodeattempts, noise_norm=noise)\n",
    "        try: \n",
    "            list_meet = filter_IE(list(df['smiles']),[3,4])\n",
    "            for smile in list_meet:\n",
    "                list_2_3.append(smile)\n",
    "        except :\n",
    "            pass\n",
    "\n",
    "    elif (property_value > 4 and  property_value < 5) :\n",
    "        df = vae.z_to_smiles(ls_sample, decode_attempts=decodeattempts, noise_norm=noise)\n",
    "        try: \n",
    "            list_meet = filter_IE(list(df['smiles']),[4,5])\n",
    "            for smile in list_meet:\n",
    "                list_2_3.append(smile)\n",
    "        except :\n",
    "            pass\n",
    "    elif (property_value > 5 and  property_value < 6) :\n",
    "        df = vae.z_to_smiles(ls_sample, decode_attempts=decodeattempts, noise_norm=noise)\n",
    "        try: \n",
    "             list_meet = filter_IE(list(df['smiles']),[5,6])\n",
    "            for smile in list_meet:\n",
    "                list_2_3.append(smile)\n",
    "        except :\n",
    "            pass\n",
    "    else:\n",
    "        print(property_value)\n",
    "        \n",
    "print(len(list_2_3))\n",
    "print(len(list_3_4))\n",
    "print(len(list_4_5))\n",
    "print(len(list_5_6))\n",
    "print(\"the ss\")"
   ]
  },
  {
   "cell_type": "code",
   "execution_count": null,
   "metadata": {
    "ExecuteTime": {
     "end_time": "2019-04-10T06:33:33.790321Z",
     "start_time": "2019-04-10T06:33:04.459930Z"
    },
    "scrolled": false
   },
   "outputs": [],
   "source": [
    "smiles_1 = mu.canon_smiles('CCCc1cc(NC(=O)CN2C(=O)NC3(CCC(C)CC3)C2=O)n(C)n1')    # test\n",
    "X_1 = vae.smiles_to_hot(smiles_1,canonize_smiles=True)\n",
    "z_1 = vae.encode(X_1,False)\n",
    "\n",
    "\n",
    "df = vae.z_to_smiles(z_1, decode_attempts=500, noise_norm=10)\n",
    "display(df)\n",
    "display(PandasTools.FrameToGridImage(df,column='mol',molsPerRow=4, legendsCol='distance', subImgSize=(300,300)))"
   ]
  },
  {
   "cell_type": "code",
   "execution_count": null,
   "metadata": {},
   "outputs": [],
   "source": [
    "z"
   ]
  },
  {
   "cell_type": "code",
   "execution_count": 26,
   "metadata": {
    "ExecuteTime": {
     "end_time": "2019-04-10T06:39:10.431518Z",
     "start_time": "2019-04-10T06:39:10.271717Z"
    }
   },
   "outputs": [
    {
     "data": {
      "image/svg+xml": [
       "<svg baseProfile=\"full\" height=\"400px\" version=\"1.1\" width=\"400px\" xml:space=\"preserve\" xmlns=\"http://www.w3.org/2000/svg\" xmlns:rdkit=\"http://www.rdkit.org/xml\" xmlns:xlink=\"http://www.w3.org/1999/xlink\">\n",
       "<rect height=\"400\" style=\"opacity:1.0;fill:#FFFFFF;stroke:none\" width=\"400\" x=\"0\" y=\"0\"> </rect>\n",
       "<path d=\"M 18.1818,190.621 47.5242,185.711\" style=\"fill:none;fill-rule:evenodd;stroke:#000000;stroke-width:2px;stroke-linecap:butt;stroke-linejoin:miter;stroke-opacity:1\"/>\n",
       "<path d=\"M 47.5242,185.711 66.4481,208.667\" style=\"fill:none;fill-rule:evenodd;stroke:#000000;stroke-width:2px;stroke-linecap:butt;stroke-linejoin:miter;stroke-opacity:1\"/>\n",
       "<path d=\"M 66.4481,208.667 95.7905,203.756\" style=\"fill:none;fill-rule:evenodd;stroke:#000000;stroke-width:2px;stroke-linecap:butt;stroke-linejoin:miter;stroke-opacity:1\"/>\n",
       "<path d=\"M 95.7905,203.756 117.01,224.608\" style=\"fill:none;fill-rule:evenodd;stroke:#000000;stroke-width:2px;stroke-linecap:butt;stroke-linejoin:miter;stroke-opacity:1\"/>\n",
       "<path d=\"M 95.7905,203.756 101.192,192.923\" style=\"fill:none;fill-rule:evenodd;stroke:#000000;stroke-width:2px;stroke-linecap:butt;stroke-linejoin:miter;stroke-opacity:1\"/>\n",
       "<path d=\"M 101.192,192.923 106.593,182.09\" style=\"fill:none;fill-rule:evenodd;stroke:#0000FF;stroke-width:2px;stroke-linecap:butt;stroke-linejoin:miter;stroke-opacity:1\"/>\n",
       "<path d=\"M 102.736,203.161 106.517,195.578\" style=\"fill:none;fill-rule:evenodd;stroke:#000000;stroke-width:2px;stroke-linecap:butt;stroke-linejoin:miter;stroke-opacity:1\"/>\n",
       "<path d=\"M 106.517,195.578 110.297,187.994\" style=\"fill:none;fill-rule:evenodd;stroke:#0000FF;stroke-width:2px;stroke-linecap:butt;stroke-linejoin:miter;stroke-opacity:1\"/>\n",
       "<path d=\"M 117.01,224.608 143.399,210.871\" style=\"fill:none;fill-rule:evenodd;stroke:#000000;stroke-width:2px;stroke-linecap:butt;stroke-linejoin:miter;stroke-opacity:1\"/>\n",
       "<path d=\"M 118.221,217.27 136.693,207.653\" style=\"fill:none;fill-rule:evenodd;stroke:#000000;stroke-width:2px;stroke-linecap:butt;stroke-linejoin:miter;stroke-opacity:1\"/>\n",
       "<path d=\"M 143.399,210.871 152.414,215.365\" style=\"fill:none;fill-rule:evenodd;stroke:#000000;stroke-width:2px;stroke-linecap:butt;stroke-linejoin:miter;stroke-opacity:1\"/>\n",
       "<path d=\"M 152.414,215.365 161.429,219.859\" style=\"fill:none;fill-rule:evenodd;stroke:#0000FF;stroke-width:2px;stroke-linecap:butt;stroke-linejoin:miter;stroke-opacity:1\"/>\n",
       "<path d=\"M 143.399,210.871 141.359,198.679\" style=\"fill:none;fill-rule:evenodd;stroke:#000000;stroke-width:2px;stroke-linecap:butt;stroke-linejoin:miter;stroke-opacity:1\"/>\n",
       "<path d=\"M 141.359,198.679 139.318,186.487\" style=\"fill:none;fill-rule:evenodd;stroke:#0000FF;stroke-width:2px;stroke-linecap:butt;stroke-linejoin:miter;stroke-opacity:1\"/>\n",
       "<path d=\"M 177.515,219.186 186.174,213.455\" style=\"fill:none;fill-rule:evenodd;stroke:#0000FF;stroke-width:2px;stroke-linecap:butt;stroke-linejoin:miter;stroke-opacity:1\"/>\n",
       "<path d=\"M 186.174,213.455 194.832,207.724\" style=\"fill:none;fill-rule:evenodd;stroke:#000000;stroke-width:2px;stroke-linecap:butt;stroke-linejoin:miter;stroke-opacity:1\"/>\n",
       "<path d=\"M 197.802,207.542 197.045,195.174\" style=\"fill:none;fill-rule:evenodd;stroke:#000000;stroke-width:2px;stroke-linecap:butt;stroke-linejoin:miter;stroke-opacity:1\"/>\n",
       "<path d=\"M 197.045,195.174 196.288,182.806\" style=\"fill:none;fill-rule:evenodd;stroke:#FF0000;stroke-width:2px;stroke-linecap:butt;stroke-linejoin:miter;stroke-opacity:1\"/>\n",
       "<path d=\"M 191.863,207.906 191.106,195.537\" style=\"fill:none;fill-rule:evenodd;stroke:#000000;stroke-width:2px;stroke-linecap:butt;stroke-linejoin:miter;stroke-opacity:1\"/>\n",
       "<path d=\"M 191.106,195.537 190.349,183.169\" style=\"fill:none;fill-rule:evenodd;stroke:#FF0000;stroke-width:2px;stroke-linecap:butt;stroke-linejoin:miter;stroke-opacity:1\"/>\n",
       "<path d=\"M 194.832,207.724 221.457,220.998\" style=\"fill:none;fill-rule:evenodd;stroke:#000000;stroke-width:2px;stroke-linecap:butt;stroke-linejoin:miter;stroke-opacity:1\"/>\n",
       "<path d=\"M 221.457,220.998 231.712,214.21\" style=\"fill:none;fill-rule:evenodd;stroke:#000000;stroke-width:2px;stroke-linecap:butt;stroke-linejoin:miter;stroke-opacity:1\"/>\n",
       "<path d=\"M 231.712,214.21 241.968,207.422\" style=\"fill:none;fill-rule:evenodd;stroke:#0000FF;stroke-width:2px;stroke-linecap:butt;stroke-linejoin:miter;stroke-opacity:1\"/>\n",
       "<path d=\"M 246.482,199.619 247.022,187.237\" style=\"fill:none;fill-rule:evenodd;stroke:#0000FF;stroke-width:2px;stroke-linecap:butt;stroke-linejoin:miter;stroke-opacity:1\"/>\n",
       "<path d=\"M 247.022,187.237 247.563,174.855\" style=\"fill:none;fill-rule:evenodd;stroke:#000000;stroke-width:2px;stroke-linecap:butt;stroke-linejoin:miter;stroke-opacity:1\"/>\n",
       "<path d=\"M 250.563,206.184 262.348,210.59\" style=\"fill:none;fill-rule:evenodd;stroke:#0000FF;stroke-width:2px;stroke-linecap:butt;stroke-linejoin:miter;stroke-opacity:1\"/>\n",
       "<path d=\"M 262.348,210.59 274.132,214.996\" style=\"fill:none;fill-rule:evenodd;stroke:#000000;stroke-width:2px;stroke-linecap:butt;stroke-linejoin:miter;stroke-opacity:1\"/>\n",
       "<path d=\"M 249.415,172.527 240.089,165.109\" style=\"fill:none;fill-rule:evenodd;stroke:#000000;stroke-width:2px;stroke-linecap:butt;stroke-linejoin:miter;stroke-opacity:1\"/>\n",
       "<path d=\"M 240.089,165.109 230.762,157.691\" style=\"fill:none;fill-rule:evenodd;stroke:#FF0000;stroke-width:2px;stroke-linecap:butt;stroke-linejoin:miter;stroke-opacity:1\"/>\n",
       "<path d=\"M 245.711,177.184 236.385,169.766\" style=\"fill:none;fill-rule:evenodd;stroke:#000000;stroke-width:2px;stroke-linecap:butt;stroke-linejoin:miter;stroke-opacity:1\"/>\n",
       "<path d=\"M 236.385,169.766 227.059,162.348\" style=\"fill:none;fill-rule:evenodd;stroke:#FF0000;stroke-width:2px;stroke-linecap:butt;stroke-linejoin:miter;stroke-opacity:1\"/>\n",
       "<path d=\"M 247.563,174.855 257.599,172.072\" style=\"fill:none;fill-rule:evenodd;stroke:#000000;stroke-width:2px;stroke-linecap:butt;stroke-linejoin:miter;stroke-opacity:1\"/>\n",
       "<path d=\"M 257.599,172.072 267.636,169.288\" style=\"fill:none;fill-rule:evenodd;stroke:#0000FF;stroke-width:2px;stroke-linecap:butt;stroke-linejoin:miter;stroke-opacity:1\"/>\n",
       "<path d=\"M 279.513,171.863 286.082,181.788\" style=\"fill:none;fill-rule:evenodd;stroke:#0000FF;stroke-width:2px;stroke-linecap:butt;stroke-linejoin:miter;stroke-opacity:1\"/>\n",
       "<path d=\"M 286.082,181.788 292.652,191.713\" style=\"fill:none;fill-rule:evenodd;stroke:#000000;stroke-width:2px;stroke-linecap:butt;stroke-linejoin:miter;stroke-opacity:1\"/>\n",
       "<path d=\"M 292.652,191.713 306.389,218.102\" style=\"fill:none;fill-rule:evenodd;stroke:#000000;stroke-width:2px;stroke-linecap:butt;stroke-linejoin:miter;stroke-opacity:1\"/>\n",
       "<path d=\"M 292.652,191.713 274.132,214.996\" style=\"fill:none;fill-rule:evenodd;stroke:#000000;stroke-width:2px;stroke-linecap:butt;stroke-linejoin:miter;stroke-opacity:1\"/>\n",
       "<path d=\"M 292.652,191.713 308.636,166.621\" style=\"fill:none;fill-rule:evenodd;stroke:#000000;stroke-width:2px;stroke-linecap:butt;stroke-linejoin:miter;stroke-opacity:1\"/>\n",
       "<path d=\"M 306.389,218.102 336.111,219.399\" style=\"fill:none;fill-rule:evenodd;stroke:#000000;stroke-width:2px;stroke-linecap:butt;stroke-linejoin:miter;stroke-opacity:1\"/>\n",
       "<path d=\"M 336.111,219.399 352.096,194.307\" style=\"fill:none;fill-rule:evenodd;stroke:#000000;stroke-width:2px;stroke-linecap:butt;stroke-linejoin:miter;stroke-opacity:1\"/>\n",
       "<path d=\"M 352.096,194.307 381.818,195.605\" style=\"fill:none;fill-rule:evenodd;stroke:#000000;stroke-width:2px;stroke-linecap:butt;stroke-linejoin:miter;stroke-opacity:1\"/>\n",
       "<path d=\"M 352.096,194.307 338.358,167.919\" style=\"fill:none;fill-rule:evenodd;stroke:#000000;stroke-width:2px;stroke-linecap:butt;stroke-linejoin:miter;stroke-opacity:1\"/>\n",
       "<path d=\"M 338.358,167.919 308.636,166.621\" style=\"fill:none;fill-rule:evenodd;stroke:#000000;stroke-width:2px;stroke-linecap:butt;stroke-linejoin:miter;stroke-opacity:1\"/>\n",
       "<path d=\"M 271.265,215.791 274.553,227.646\" style=\"fill:none;fill-rule:evenodd;stroke:#000000;stroke-width:2px;stroke-linecap:butt;stroke-linejoin:miter;stroke-opacity:1\"/>\n",
       "<path d=\"M 274.553,227.646 277.841,239.501\" style=\"fill:none;fill-rule:evenodd;stroke:#FF0000;stroke-width:2px;stroke-linecap:butt;stroke-linejoin:miter;stroke-opacity:1\"/>\n",
       "<path d=\"M 276.999,214.201 280.287,226.056\" style=\"fill:none;fill-rule:evenodd;stroke:#000000;stroke-width:2px;stroke-linecap:butt;stroke-linejoin:miter;stroke-opacity:1\"/>\n",
       "<path d=\"M 280.287,226.056 283.574,237.911\" style=\"fill:none;fill-rule:evenodd;stroke:#FF0000;stroke-width:2px;stroke-linecap:butt;stroke-linejoin:miter;stroke-opacity:1\"/>\n",
       "<path d=\"M 142.786,177.155 151.063,168.732\" style=\"fill:none;fill-rule:evenodd;stroke:#0000FF;stroke-width:2px;stroke-linecap:butt;stroke-linejoin:miter;stroke-opacity:1\"/>\n",
       "<path d=\"M 151.063,168.732 159.341,160.308\" style=\"fill:none;fill-rule:evenodd;stroke:#000000;stroke-width:2px;stroke-linecap:butt;stroke-linejoin:miter;stroke-opacity:1\"/>\n",
       "<path d=\"M 134.191,180.886 113.362,177.773\" style=\"fill:none;fill-rule:evenodd;stroke:#0000FF;stroke-width:2px;stroke-linecap:butt;stroke-linejoin:miter;stroke-opacity:1\"/>\n",
       "<text style=\"font-size:9px;font-style:normal;font-weight:normal;fill-opacity:1;stroke:none;font-family:sans-serif;text-anchor:start;fill:#0000FF\" x=\"161.429\" y=\"229.103\"><tspan>NH</tspan></text>\n",
       "<text style=\"font-size:9px;font-style:normal;font-weight:normal;fill-opacity:1;stroke:none;font-family:sans-serif;text-anchor:start;fill:#FF0000\" x=\"188.385\" y=\"182.988\"><tspan>O</tspan></text>\n",
       "<text style=\"font-size:9px;font-style:normal;font-weight:normal;fill-opacity:1;stroke:none;font-family:sans-serif;text-anchor:start;fill:#0000FF\" x=\"241.968\" y=\"209.536\"><tspan>N</tspan></text>\n",
       "<text style=\"font-size:9px;font-style:normal;font-weight:normal;fill-opacity:1;stroke:none;font-family:sans-serif;text-anchor:start;fill:#FF0000\" x=\"219.648\" y=\"161.294\"><tspan>O</tspan></text>\n",
       "<text style=\"font-size:9px;font-style:normal;font-weight:normal;fill-opacity:1;stroke:none;font-family:sans-serif;text-anchor:start;fill:#0000FF\" x=\"267.636\" y=\"171.863\"><tspan>NH</tspan></text>\n",
       "<text style=\"font-size:9px;font-style:normal;font-weight:normal;fill-opacity:1;stroke:none;font-family:sans-serif;text-anchor:start;fill:#FF0000\" x=\"277.452\" y=\"248.623\"><tspan>O</tspan></text>\n",
       "<text style=\"font-size:9px;font-style:normal;font-weight:normal;fill-opacity:1;stroke:none;font-family:sans-serif;text-anchor:start;fill:#0000FF\" x=\"134.191\" y=\"186.487\"><tspan>N</tspan></text>\n",
       "<text style=\"font-size:9px;font-style:normal;font-weight:normal;fill-opacity:1;stroke:none;font-family:sans-serif;text-anchor:start;fill:#0000FF\" x=\"104.767\" y=\"182.09\"><tspan>N</tspan></text>\n",
       "</svg>"
      ],
      "text/plain": [
       "<IPython.core.display.SVG object>"
      ]
     },
     "metadata": {},
     "output_type": "display_data"
    }
   ],
   "source": [
    "from rdkit import Chem\n",
    "from rdkit.Chem import AllChem\n",
    "from rdkit.Chem.Draw import IPythonConsole\n",
    "from IPython.display import SVG\n",
    "from rdkit.Chem import rdDepictor\n",
    "from rdkit.Chem.Draw import rdMolDraw2D\n",
    "from rdkit.Chem import Draw\n",
    "list_smile = ['CCCc1cc(NC(=O)CN2C(=O)NC3(CCC(C)CC3)C2=O)n(C)n1']\n",
    "img=Draw.MolsToGridImage([Chem.MolFromSmiles(smile) for smile in list_smile],molsPerRow=1,subImgSize=(400,400),useSVG=True)\n",
    "display(img)"
   ]
  },
  {
   "cell_type": "markdown",
   "metadata": {},
   "source": [
    "## property preditor"
   ]
  },
  {
   "cell_type": "code",
   "execution_count": 220,
   "metadata": {
    "ExecuteTime": {
     "end_time": "2018-01-16T09:13:28.233280Z",
     "start_time": "2018-01-16T09:13:28.178784Z"
    }
   },
   "outputs": [
    {
     "name": "stdout",
     "output_type": "stream",
     "text": [
      "Properties (qed,SAS,logP):\n",
      "[[3.1159394]]\n"
     ]
    }
   ],
   "source": [
    "print('Properties (qed,SAS,logP):')\n",
    "y_1 = vae.predict_prop_Z(z_1)\n",
    "print(y_1)"
   ]
  },
  {
   "cell_type": "code",
   "execution_count": 245,
   "metadata": {},
   "outputs": [
    {
     "name": "stdout",
     "output_type": "stream",
     "text": [
      "The autoreload extension is already loaded. To reload it, use:\n",
      "  %reload_ext autoreload\n",
      "0_attemp\n",
      "(1, 196)\n",
      "x0 shape is(196,)\n",
      "Warning: Desired error not necessarily achieved due to precision loss.\n",
      "         Current function value: 2.921356\n",
      "         Iterations: 1\n",
      "         Function evaluations: 27986\n",
      "         Gradient evaluations: 71\n",
      "[[2.9213564]]\n"
     ]
    }
   ],
   "source": [
    "# this is the optimize process in the latent space.\n",
    "%load_ext autoreload\n",
    "%autoreload 2\n",
    "from scipy import optimize\n",
    "import numpy as np \n",
    "for i in range(\n",
    "    print(str(i)+\"_attemp\")\n",
    "    initial = np.random.rand(1,196)\n",
    "    print(initial.shape)\n",
    "    res1 = optimize.fmin_cg(vae.predict_prop_Z, initial,full_output=True)\n",
    "    y_1 = vae.predict_prop_Z(initial)\n",
    "    print(y_1)\n",
    "# "
   ]
  },
  {
   "cell_type": "markdown",
   "metadata": {},
   "source": [
    "## Decode several attempts\n",
    "VAE are probabilistic"
   ]
  },
  {
   "cell_type": "code",
   "execution_count": 55,
   "metadata": {
    "ExecuteTime": {
     "end_time": "2018-01-16T09:13:32.709010Z",
     "start_time": "2018-01-16T09:13:30.004000Z"
    }
   },
   "outputs": [
    {
     "name": "stdout",
     "output_type": "stream",
     "text": [
      "Searching molecules randomly sampled from 5.00 std (z-distance) from the point\n",
      "Found 0 unique mols, out of 0\n",
      "SMILES\n",
      " Series([], Name: smiles, dtype: object)\n"
     ]
    },
    {
     "data": {
      "text/html": [
       "<div>\n",
       "<style scoped>\n",
       "    .dataframe tbody tr th:only-of-type {\n",
       "        vertical-align: middle;\n",
       "    }\n",
       "\n",
       "    .dataframe tbody tr th {\n",
       "        vertical-align: top;\n",
       "    }\n",
       "\n",
       "    .dataframe thead th {\n",
       "        text-align: right;\n",
       "    }\n",
       "</style>\n",
       "<table border=\"1\" class=\"dataframe\">\n",
       "  <thead>\n",
       "    <tr style=\"text-align: right;\">\n",
       "      <th></th>\n",
       "      <th>smiles</th>\n",
       "      <th>count</th>\n",
       "      <th>mol</th>\n",
       "    </tr>\n",
       "  </thead>\n",
       "  <tbody>\n",
       "  </tbody>\n",
       "</table>\n",
       "</div>"
      ],
      "text/plain": [
       "Empty DataFrame\n",
       "Columns: [smiles, count, mol]\n",
       "Index: []"
      ]
     },
     "execution_count": 55,
     "metadata": {},
     "output_type": "execute_result"
    }
   ],
   "source": [
    "noise=5.0\n",
    "print('Searching molecules randomly sampled from {:.2f} std (z-distance) from the point'.format(noise))\n",
    "df = vae.z_to_smiles( z_1,decode_attempts=100,noise_norm=noise)\n",
    "print('Found {:d} unique mols, out of {:d}'.format(len(set(df['smiles'])),sum(df['count'])))\n",
    "print('SMILES\\n',df.smiles)\n",
    "# display(PandasTools.FrameToGridImage(df,column='mol', legendsCol='smiles',molsPerRow=5))\n",
    "df.head()"
   ]
  },
  {
   "cell_type": "markdown",
   "metadata": {},
   "source": [
    "## PCA of latent space\n",
    "\n",
    "Sample random points from the training set along with properties"
   ]
  },
  {
   "cell_type": "code",
   "execution_count": null,
   "metadata": {
    "ExecuteTime": {
     "end_time": "2018-01-16T09:15:18.349123Z",
     "start_time": "2018-01-16T09:14:47.940503Z"
    },
    "scrolled": true
   },
   "outputs": [],
   "source": [
    "Z, data, smiles = vae.ls_sampler_w_prop(size=5000,return_smiles=True)\n",
    "prop_opt = 'qed'\n",
    "prop_df = pd.DataFrame(data).reset_index()\n",
    "prop_df['smiles']=smiles\n",
    "prop_df.head()"
   ]
  },
  {
   "cell_type": "markdown",
   "metadata": {},
   "source": [
    "Perform a PCA projection and color the points based on a property"
   ]
  },
  {
   "cell_type": "code",
   "execution_count": null,
   "metadata": {
    "ExecuteTime": {
     "end_time": "2018-01-16T09:18:19.823125Z",
     "start_time": "2018-01-16T09:18:18.859993Z"
    },
    "scrolled": true
   },
   "outputs": [],
   "source": [
    "from sklearn.decomposition import PCA\n",
    "from sklearn.preprocessing import MinMaxScaler\n",
    "\n",
    "# do pca and normalize\n",
    "Z_pca = PCA(n_components=2).fit_transform(Z)\n",
    "Z_pca = MinMaxScaler().fit_transform(Z_pca)\n",
    "\n",
    "df = pd.DataFrame(np.transpose((Z_pca[:,0],Z_pca[:,1])))\n",
    "df.columns = ['x','y']\n",
    "df[prop_opt]=prop_df[prop_opt]\n",
    "\n",
    "plt.scatter(x=df['x'], y=df['y'], c=df[prop_opt],\n",
    "            cmap= 'viridis', marker='.',\n",
    "            s=10,alpha=0.5, edgecolors='none')\n",
    "plt.show()"
   ]
  },
  {
   "cell_type": "markdown",
   "metadata": {},
   "source": [
    "compare with t-SNE, will take some time"
   ]
  },
  {
   "cell_type": "code",
   "execution_count": null,
   "metadata": {
    "ExecuteTime": {
     "start_time": "2018-01-16T09:18:40.877Z"
    },
    "scrolled": true
   },
   "outputs": [],
   "source": [
    "from sklearn.manifold import TSNE\n",
    "\n",
    "Z_tsne = TSNE(n_components=2).fit_transform(Z)\n",
    "Z_tsne = MinMaxScaler().fit_transform(Z_tsne)\n",
    "\n",
    "f = pd.DataFrame(np.transpose((Z_tsne[:,0],Z_tsne[:,1])))\n",
    "df.columns = ['x','y']\n",
    "df[prop_opt]=prop_df[prop_opt]\n",
    "\n",
    "plt.scatter(x=df['x'], y=df['y'], c=df[prop_opt],\n",
    "            cmap= 'viridis', marker='.',\n",
    "            s=10,alpha=0.5, edgecolors='none')\n",
    "plt.show()"
   ]
  }
 ],
 "metadata": {
  "celltoolbar": "Slideshow",
  "kernelspec": {
   "display_name": "Python 3",
   "language": "python",
   "name": "python3"
  },
  "language_info": {
   "codemirror_mode": {
    "name": "ipython",
    "version": 3
   },
   "file_extension": ".py",
   "mimetype": "text/x-python",
   "name": "python",
   "nbconvert_exporter": "python",
   "pygments_lexer": "ipython3",
   "version": "3.6.7"
  },
  "toc": {
   "nav_menu": {},
   "number_sections": true,
   "sideBar": true,
   "skip_h1_title": false,
   "toc_cell": false,
   "toc_position": {},
   "toc_section_display": "block",
   "toc_window_display": false
  },
  "varInspector": {
   "cols": {
    "lenName": 16,
    "lenType": 16,
    "lenVar": 40
   },
   "kernels_config": {
    "python": {
     "delete_cmd_postfix": "",
     "delete_cmd_prefix": "del ",
     "library": "var_list.py",
     "varRefreshCmd": "print(var_dic_list())"
    },
    "r": {
     "delete_cmd_postfix": ") ",
     "delete_cmd_prefix": "rm(",
     "library": "var_list.r",
     "varRefreshCmd": "cat(var_dic_list()) "
    }
   },
   "types_to_exclude": [
    "module",
    "function",
    "builtin_function_or_method",
    "instance",
    "_Feature"
   ],
   "window_display": false
  }
 },
 "nbformat": 4,
 "nbformat_minor": 2
}
