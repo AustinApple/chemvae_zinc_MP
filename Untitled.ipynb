{
 "cells": [
  {
   "cell_type": "code",
   "execution_count": 1,
   "metadata": {
    "ExecuteTime": {
     "end_time": "2019-03-31T13:35:25.855906Z",
     "start_time": "2019-03-31T13:35:25.817717Z"
    }
   },
   "outputs": [
    {
     "data": {
      "text/plain": [
       "array([-0.32241123,  0.23995695,  0.56253404, -1.00544454,  0.66607247,\n",
       "       -1.6150145 , -1.89702147, -0.52359149,  0.23936697,  2.01601853])"
      ]
     },
     "execution_count": 1,
     "metadata": {},
     "output_type": "execute_result"
    }
   ],
   "source": [
    "import numpy as np \n",
    "sample = np.random.normal(0,1,10)\n",
    "sample"
   ]
  },
  {
   "cell_type": "code",
   "execution_count": 27,
   "metadata": {
    "ExecuteTime": {
     "end_time": "2019-03-31T13:59:52.725181Z",
     "start_time": "2019-03-31T13:59:52.716211Z"
    }
   },
   "outputs": [
    {
     "data": {
      "text/plain": [
       "array([[10.16167949, 10.92454935, 11.58036389, 11.47423624, 10.66100448,\n",
       "        11.9234516 , 11.17489018, 11.06392415, 10.79569802, 10.55362667,\n",
       "        10.16167949, 10.92454935, 11.58036389, 11.47423624, 10.66100448,\n",
       "        11.9234516 , 11.17489018, 11.06392415, 10.79569802, 10.55362667]])"
      ]
     },
     "execution_count": 27,
     "metadata": {},
     "output_type": "execute_result"
    }
   ],
   "source": [
    "s = np.random.uniform(10,12,(1,10))\n",
    "Z = np.tile(s, (1, 2))\n",
    "Z"
   ]
  }
 ],
 "metadata": {
  "kernelspec": {
   "display_name": "Python 3",
   "language": "python",
   "name": "python3"
  },
  "language_info": {
   "codemirror_mode": {
    "name": "ipython",
    "version": 3
   },
   "file_extension": ".py",
   "mimetype": "text/x-python",
   "name": "python",
   "nbconvert_exporter": "python",
   "pygments_lexer": "ipython3",
   "version": "3.6.7"
  },
  "varInspector": {
   "cols": {
    "lenName": 16,
    "lenType": 16,
    "lenVar": 40
   },
   "kernels_config": {
    "python": {
     "delete_cmd_postfix": "",
     "delete_cmd_prefix": "del ",
     "library": "var_list.py",
     "varRefreshCmd": "print(var_dic_list())"
    },
    "r": {
     "delete_cmd_postfix": ") ",
     "delete_cmd_prefix": "rm(",
     "library": "var_list.r",
     "varRefreshCmd": "cat(var_dic_list()) "
    }
   },
   "types_to_exclude": [
    "module",
    "function",
    "builtin_function_or_method",
    "instance",
    "_Feature"
   ],
   "window_display": false
  }
 },
 "nbformat": 4,
 "nbformat_minor": 2
}
